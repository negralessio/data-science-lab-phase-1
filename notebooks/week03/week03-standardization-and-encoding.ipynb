{
 "cells": [
  {
   "cell_type": "code",
   "execution_count": 51,
   "outputs": [],
   "source": [
    "import pandas as pd\n",
    "import seaborn as sns\n",
    "import matplotlib.pyplot as plt\n",
    "import numpy as np\n",
    "import math\n",
    "from src.data_cleaning import group_categorical_features\n",
    "from sklearn.preprocessing import OneHotEncoder\n",
    "from sklearn.preprocessing import StandardScaler, MinMaxScaler\n",
    "\n",
    "sns.set_theme(style=\"whitegrid\")\n",
    "sns.set_palette(palette=\"Paired\")"
   ],
   "metadata": {
    "collapsed": false,
    "pycharm": {
     "name": "#%%\n"
    }
   }
  },
  {
   "cell_type": "markdown",
   "source": [
    "# Load Data"
   ],
   "metadata": {
    "collapsed": false,
    "pycharm": {
     "name": "#%% md\n"
    }
   }
  },
  {
   "cell_type": "code",
   "execution_count": 52,
   "outputs": [
    {
     "name": "stdout",
     "output_type": "stream",
     "text": [
      "Read and Load Data ...\n",
      "Loading Data ...\n",
      "Cleaning Train Data ...\n",
      "Found 33899 outliers,using method'replace'to handle them:\n",
      "##########\n",
      "Count per column: {'age': 12499, 'area_percentage': 13557, 'height_percentage': 7843}\n",
      "Lower bound: {'age': -20.0, 'area_percentage': -1.0, 'height_percentage': 1.0}\n",
      "Upper bound: {'age': 60.0, 'area_percentage': 15.0, 'height_percentage': 9.0}\n",
      "Cleaning Test Data ...\n",
      "Found 11365 outliers,using method'replace'to handle them:\n",
      "##########\n",
      "Count per column: {'age': 4279, 'area_percentage': 4442, 'height_percentage': 2644}\n",
      "Lower bound: {'age': -20.0, 'area_percentage': -1.0, 'height_percentage': 1.0}\n",
      "Upper bound: {'age': 60.0, 'area_percentage': 15.0, 'height_percentage': 9.0}\n",
      "Drop correlated features...\n",
      "Grouping categorical features ...\n"
     ]
    }
   ],
   "source": [
    "import yaml\n",
    "import pandas as pd\n",
    "\n",
    "from data_cleaning import drop_correlated_features\n",
    "from data_cleaning import group_categorical_features\n",
    "from data_cleaning import  prepare_data\n",
    "\n",
    "# Read config file\n",
    "with open(\"../../configs/config.yml\", \"r\") as ymlfile:\n",
    "    cfg = yaml.load(ymlfile, yaml.FullLoader)\n",
    "\n",
    "# Check if data in config exists and read it\n",
    "print(\"Read and Load Data ...\")\n",
    "train_values_path = \"../../data/raw/train_values.csv\"\n",
    "train_labels_path = \"../../data/raw/train_labels.csv\"\n",
    "test_values_path = \"../../data/raw/test_values.csv\"\n",
    "result_path = cfg[\"paths\"][\"result\"]\n",
    "\n",
    "# Load data\n",
    "print(\"Loading Data ...\")\n",
    "train_values = pd.read_csv(train_values_path)\n",
    "train_labels = pd.read_csv(train_labels_path)\n",
    "test_values = pd.read_csv(test_values_path)\n",
    "train_values.set_index(\"building_id\", inplace=True)\n",
    "test_values.set_index(\"building_id\", inplace=True)\n",
    "\n",
    "# Data cleaning\n",
    "# Prepare raw data\n",
    "print(\"Cleaning Train Data ...\")\n",
    "binary_encoded_cols = [x for x in train_values.columns if x.startswith(\"has_\")]\n",
    "columns_to_ignore = cfg.get(\"data_cleaning\", \"NO DATA CLEANING DEFINED!\").get(\"columns_to_ignore\")\n",
    "train_data_cleaned = prepare_data(df=train_values, config=cfg,\n",
    "                                  ignore_cols=columns_to_ignore+binary_encoded_cols,\n",
    "                                  outlier_method=\"replace\")\n",
    "print(\"Cleaning Test Data ...\")\n",
    "test_data_cleaned = prepare_data(df=test_values, config=cfg,\n",
    "                                  ignore_cols=columns_to_ignore+binary_encoded_cols,\n",
    "                                  outlier_method=\"replace\")\n",
    "\n",
    "# Correlated features\n",
    "print(\"Drop correlated features...\")\n",
    "train_data_cleaned = drop_correlated_features(data=train_data_cleaned, config=cfg[\"data_cleaning\"][\"correlations\"])\n",
    "test_data_cleaned = drop_correlated_features(data=test_data_cleaned, config=cfg[\"data_cleaning\"][\"correlations\"])\n",
    "\n",
    "# Group categorical features with rarely occurring realizations\n",
    "print(\"Grouping categorical features ...\")\n",
    "train_data_cleaned = group_categorical_features(df=train_data_cleaned, default_val=\"others\", verbose=False)\n",
    "test_data_cleaned = group_categorical_features(df=test_data_cleaned, default_val=\"others\", verbose=False)"
   ],
   "metadata": {
    "collapsed": false,
    "pycharm": {
     "name": "#%%\n"
    }
   }
  },
  {
   "cell_type": "code",
   "execution_count": 53,
   "outputs": [
    {
     "name": "stdout",
     "output_type": "stream",
     "text": [
      "<class 'pandas.core.frame.DataFrame'>\n",
      "Int64Index: 260601 entries, 802906 to 747594\n",
      "Data columns (total 26 columns):\n",
      " #   Column                                  Non-Null Count   Dtype   \n",
      "---  ------                                  --------------   -----   \n",
      " 0   geo_level_1_id                          260601 non-null  int64   \n",
      " 1   geo_level_2_id                          260601 non-null  int64   \n",
      " 2   geo_level_3_id                          260601 non-null  int64   \n",
      " 3   count_floors_pre_eq                     260601 non-null  int64   \n",
      " 4   land_surface_condition                  260601 non-null  category\n",
      " 5   foundation_type                         260601 non-null  category\n",
      " 6   roof_type                               260601 non-null  category\n",
      " 7   ground_floor_type                       260601 non-null  object  \n",
      " 8   other_floor_type                        260601 non-null  category\n",
      " 9   position                                260601 non-null  category\n",
      " 10  plan_configuration                      260601 non-null  object  \n",
      " 11  has_superstructure_adobe_mud            260601 non-null  int64   \n",
      " 12  has_superstructure_mud_mortar_stone     260601 non-null  int64   \n",
      " 13  has_superstructure_stone_flag           260601 non-null  int64   \n",
      " 14  has_superstructure_cement_mortar_stone  260601 non-null  int64   \n",
      " 15  has_superstructure_mud_mortar_brick     260601 non-null  int64   \n",
      " 16  has_superstructure_cement_mortar_brick  260601 non-null  int64   \n",
      " 17  has_superstructure_timber               260601 non-null  int64   \n",
      " 18  has_superstructure_bamboo               260601 non-null  int64   \n",
      " 19  has_superstructure_rc_non_engineered    260601 non-null  int64   \n",
      " 20  has_superstructure_rc_engineered        260601 non-null  int64   \n",
      " 21  has_superstructure_other                260601 non-null  int64   \n",
      " 22  legal_ownership_status                  260601 non-null  object  \n",
      " 23  count_families                          260601 non-null  int64   \n",
      " 24  has_secondary_use                       260601 non-null  int64   \n",
      " 25  has_secondary_use_hotel                 260601 non-null  int64   \n",
      "dtypes: category(5), int64(18), object(3)\n",
      "memory usage: 45.0+ MB\n"
     ]
    }
   ],
   "source": [
    "train_data_cleaned.info()"
   ],
   "metadata": {
    "collapsed": false,
    "pycharm": {
     "name": "#%%\n"
    }
   }
  },
  {
   "cell_type": "markdown",
   "source": [
    "# Encoding using OHE"
   ],
   "metadata": {
    "collapsed": false,
    "pycharm": {
     "name": "#%% md\n"
    }
   }
  },
  {
   "cell_type": "code",
   "execution_count": 54,
   "outputs": [],
   "source": [
    "def encode_train_data(x_train: pd.DataFrame):\n",
    "    \"\"\"\n",
    "    Encodes the train data using sklearn One Hot Encoded and returns fitted OHE object.\n",
    "    We need the fitted OHE object to transform our test data thus we also return the OHE object.\n",
    "\n",
    "    :param x_train:\n",
    "    :return: Encoded DataFrame and fitted OHE object\n",
    "    \"\"\"\n",
    "    x_train_cats = x_train.select_dtypes(['object', 'category'])\n",
    "\n",
    "    # Fit One Hot Encoding Object\n",
    "    ohe = OneHotEncoder(handle_unknown=\"ignore\", dtype=np.int64)\n",
    "    x_train_cats_encoded = ohe.fit_transform(x_train_cats).toarray()\n",
    "    # Transform encoded data to pandas dataframe\n",
    "    x_train_cats_encoded = pd.DataFrame(x_train_cats_encoded, columns=ohe.get_feature_names_out(), index=x_train.index)\n",
    "    # Drop old features\n",
    "    feats_to_drop = list(ohe.feature_names_in_)\n",
    "    x_train = x_train.drop(columns=feats_to_drop, axis=1)\n",
    "    # Concat old dataframe with new encoded features\n",
    "    x_train_encoded = pd.concat([x_train, x_train_cats_encoded], axis=1)\n",
    "\n",
    "    return x_train_encoded, ohe\n",
    "\n",
    "def encode_test_data(x_test: pd.DataFrame, ohe: OneHotEncoder) -> pd.DataFrame:\n",
    "    \"\"\"\n",
    "    Applies the already fitted OHE object on the test dataframe x_test.\n",
    "    First extracts categorical columns from the x_test and transforms them using the ohe object.\n",
    "    Then the encoded data gets concatenated with the remaining not encoded features.\n",
    "\n",
    "    :param x_test: Test DataFrame to transform using the fitted OHE object\n",
    "    :param ohe: Fitted OneHotEncoder Object yielded from 'encode_train_data()' function\n",
    "    :return: Encoded DataFrame\n",
    "    \"\"\"\n",
    "    # Get categorical columns and transform them using already fitted OHE object\n",
    "    x_test_cats = x_test.select_dtypes(['object', 'category'])\n",
    "    x_test_cats_encoded = ohe.transform(x_test_cats).toarray()\n",
    "    # Transform to pandas DataFrame\n",
    "    x_test_cats_encoded = pd.DataFrame(x_test_cats_encoded, columns=ohe.get_feature_names_out(), index=x_test.index)\n",
    "    # Drop old features\n",
    "    feats_to_drop = list(ohe.feature_names_in_)\n",
    "    x_test = x_test.drop(columns=feats_to_drop, axis=1)\n",
    "    # Concat old dataframe with new encoded features\n",
    "    x_test_encoded = pd.concat([x_test, x_test_cats_encoded], axis=1)\n",
    "    return x_test_encoded\n",
    "\n",
    "train_data_cleaned_encoded, ohe = encode_train_data(x_train=train_data_cleaned)\n",
    "test_data_cleaned_encoded = encode_test_data(x_test=test_data_cleaned, ohe=ohe)"
   ],
   "metadata": {
    "collapsed": false,
    "pycharm": {
     "name": "#%%\n"
    }
   }
  },
  {
   "cell_type": "code",
   "execution_count": 58,
   "outputs": [],
   "source": [
    "def normalize_train_data(x_train: pd.DataFrame, scaler):\n",
    "    \"\"\"\n",
    "    Function to normalize the train data.\n",
    "    Fits StandardScaler on given train DataFrame and also outputs the scaler.\n",
    "\n",
    "    :param x_train: train DataFrame\n",
    "    :param scaler: Either MinMax() object or StandardScaler() object\n",
    "    :return: Scaled Train DataFrame\n",
    "    \"\"\"\n",
    "    x_train_scaled = scaler.fit_transform(x_train)\n",
    "    # Transform back to pandas DataFrame\n",
    "    x_train_scaled = pd.DataFrame(x_train_scaled, columns=x_train.columns)\n",
    "    return x_train_scaled, scaler\n",
    "\n",
    "def normalize_test_data(x_test: pd.DataFrame, scaler) -> pd.DataFrame:\n",
    "    \"\"\"\n",
    "    Function to normalize the test data. Uses already fitted StandardScaler or MinMax scaler object\n",
    "    to transform given DataFrame.\n",
    "\n",
    "    :param x_test: test DataFrame\n",
    "    :param scaler: Fitted StandardScaler or MinMax Scaler object, yielded from 'normalize_train_data' function\n",
    "    :return: Scaled Test DataFrame\n",
    "    \"\"\"\n",
    "\n",
    "    x_test_scaled = scaler.transform(x_test)\n",
    "    # Transform back to pandas DataFrame\n",
    "    x_test_scaled = pd.DataFrame(x_test_scaled, columns=x_test.columns)\n",
    "    return x_test_scaled\n",
    "\n",
    "train_data_cleaned_encoded_scaled, scaler = normalize_train_data(train_data_cleaned_encoded, StandardScaler())\n",
    "test_data_cleaned_encoded_scaled = normalize_test_data(test_data_cleaned_encoded, scaler)"
   ],
   "metadata": {
    "collapsed": false,
    "pycharm": {
     "name": "#%%\n"
    }
   }
  },
  {
   "cell_type": "code",
   "execution_count": 59,
   "outputs": [
    {
     "data": {
      "text/plain": "        geo_level_1_id  geo_level_2_id  geo_level_3_id  count_floors_pre_eq  \\\n0            -0.983414       -0.518705        1.629055            -0.178274   \n1            -0.734459        0.481998       -0.945017            -0.178274   \n2             0.883744       -0.819158        0.744612            -0.178274   \n3             1.008221       -0.685893        1.216589            -0.178274   \n4            -0.361028       -1.381296       -1.308119             1.195989   \n...                ...             ...             ...                  ...   \n260596        1.381653        1.536007       -1.271644            -1.552536   \n260597        0.385835        0.033741       -1.151250            -0.178274   \n260598        0.385835       -1.575137        0.522472             1.195989   \n260599        1.506130       -1.604213       -1.208568            -0.178274   \n260600        0.883744       -1.676903        0.779715             1.195989   \n\n        has_superstructure_adobe_mud  has_superstructure_mud_mortar_stone  \\\n0                           3.206391                             0.558971   \n1                          -0.311877                             0.558971   \n2                          -0.311877                             0.558971   \n3                          -0.311877                             0.558971   \n4                           3.206391                            -1.789003   \n...                              ...                                  ...   \n260596                     -0.311877                             0.558971   \n260597                     -0.311877                             0.558971   \n260598                     -0.311877                             0.558971   \n260599                     -0.311877                            -1.789003   \n260600                     -0.311877                             0.558971   \n\n        has_superstructure_stone_flag  has_superstructure_cement_mortar_stone  \\\n0                           -0.188554                               -0.136284   \n1                           -0.188554                               -0.136284   \n2                           -0.188554                               -0.136284   \n3                           -0.188554                               -0.136284   \n4                           -0.188554                               -0.136284   \n...                               ...                                     ...   \n260596                      -0.188554                               -0.136284   \n260597                      -0.188554                               -0.136284   \n260598                      -0.188554                               -0.136284   \n260599                      -0.188554                               -0.136284   \n260600                      -0.188554                               -0.136284   \n\n        has_superstructure_mud_mortar_brick  \\\n0                                 -0.270442   \n1                                 -0.270442   \n2                                 -0.270442   \n3                                 -0.270442   \n4                                 -0.270442   \n...                                     ...   \n260596                            -0.270442   \n260597                            -0.270442   \n260598                            -0.270442   \n260599                            -0.270442   \n260600                            -0.270442   \n\n        has_superstructure_cement_mortar_brick  ...  other_floor_type_s  \\\n0                                    -0.285298  ...           -0.219973   \n1                                    -0.285298  ...           -0.219973   \n2                                    -0.285298  ...           -0.219973   \n3                                    -0.285298  ...           -0.219973   \n4                                    -0.285298  ...           -0.219973   \n...                                        ...  ...                 ...   \n260596                               -0.285298  ...           -0.219973   \n260597                               -0.285298  ...           -0.219973   \n260598                               -0.285298  ...           -0.219973   \n260599                                3.505111  ...            4.546009   \n260600                               -0.285298  ...           -0.219973   \n\n        other_floor_type_x  position_j  position_o  position_s  position_t  \\\n0                -0.447303   -0.231741   -0.095043   -1.858462    2.252816   \n1                -0.447303   -0.231741   -0.095043    0.538079   -0.443889   \n2                 2.235620   -0.231741   -0.095043   -1.858462    2.252816   \n3                 2.235620   -0.231741   -0.095043    0.538079   -0.443889   \n4                 2.235620   -0.231741   -0.095043    0.538079   -0.443889   \n...                    ...         ...         ...         ...         ...   \n260596           -0.447303   -0.231741   -0.095043    0.538079   -0.443889   \n260597           -0.447303   -0.231741   -0.095043    0.538079   -0.443889   \n260598           -0.447303   -0.231741   -0.095043    0.538079   -0.443889   \n260599           -0.447303    4.315161   -0.095043   -1.858462   -0.443889   \n260600           -0.447303    4.315161   -0.095043   -1.858462   -0.443889   \n\n        plan_configuration_d  plan_configuration_others  \\\n0                   0.205192                  -0.205192   \n1                   0.205192                  -0.205192   \n2                   0.205192                  -0.205192   \n3                   0.205192                  -0.205192   \n4                   0.205192                  -0.205192   \n...                      ...                        ...   \n260596             -4.873478                   4.873478   \n260597              0.205192                  -0.205192   \n260598              0.205192                  -0.205192   \n260599              0.205192                  -0.205192   \n260600              0.205192                  -0.205192   \n\n        legal_ownership_status_others  legal_ownership_status_v  \n0                           -0.196223                  0.196223  \n1                           -0.196223                  0.196223  \n2                           -0.196223                  0.196223  \n3                           -0.196223                  0.196223  \n4                           -0.196223                  0.196223  \n...                               ...                       ...  \n260596                      -0.196223                  0.196223  \n260597                      -0.196223                  0.196223  \n260598                      -0.196223                  0.196223  \n260599                      -0.196223                  0.196223  \n260600                      -0.196223                  0.196223  \n\n[260601 rows x 45 columns]",
      "text/html": "<div>\n<style scoped>\n    .dataframe tbody tr th:only-of-type {\n        vertical-align: middle;\n    }\n\n    .dataframe tbody tr th {\n        vertical-align: top;\n    }\n\n    .dataframe thead th {\n        text-align: right;\n    }\n</style>\n<table border=\"1\" class=\"dataframe\">\n  <thead>\n    <tr style=\"text-align: right;\">\n      <th></th>\n      <th>geo_level_1_id</th>\n      <th>geo_level_2_id</th>\n      <th>geo_level_3_id</th>\n      <th>count_floors_pre_eq</th>\n      <th>has_superstructure_adobe_mud</th>\n      <th>has_superstructure_mud_mortar_stone</th>\n      <th>has_superstructure_stone_flag</th>\n      <th>has_superstructure_cement_mortar_stone</th>\n      <th>has_superstructure_mud_mortar_brick</th>\n      <th>has_superstructure_cement_mortar_brick</th>\n      <th>...</th>\n      <th>other_floor_type_s</th>\n      <th>other_floor_type_x</th>\n      <th>position_j</th>\n      <th>position_o</th>\n      <th>position_s</th>\n      <th>position_t</th>\n      <th>plan_configuration_d</th>\n      <th>plan_configuration_others</th>\n      <th>legal_ownership_status_others</th>\n      <th>legal_ownership_status_v</th>\n    </tr>\n  </thead>\n  <tbody>\n    <tr>\n      <th>0</th>\n      <td>-0.983414</td>\n      <td>-0.518705</td>\n      <td>1.629055</td>\n      <td>-0.178274</td>\n      <td>3.206391</td>\n      <td>0.558971</td>\n      <td>-0.188554</td>\n      <td>-0.136284</td>\n      <td>-0.270442</td>\n      <td>-0.285298</td>\n      <td>...</td>\n      <td>-0.219973</td>\n      <td>-0.447303</td>\n      <td>-0.231741</td>\n      <td>-0.095043</td>\n      <td>-1.858462</td>\n      <td>2.252816</td>\n      <td>0.205192</td>\n      <td>-0.205192</td>\n      <td>-0.196223</td>\n      <td>0.196223</td>\n    </tr>\n    <tr>\n      <th>1</th>\n      <td>-0.734459</td>\n      <td>0.481998</td>\n      <td>-0.945017</td>\n      <td>-0.178274</td>\n      <td>-0.311877</td>\n      <td>0.558971</td>\n      <td>-0.188554</td>\n      <td>-0.136284</td>\n      <td>-0.270442</td>\n      <td>-0.285298</td>\n      <td>...</td>\n      <td>-0.219973</td>\n      <td>-0.447303</td>\n      <td>-0.231741</td>\n      <td>-0.095043</td>\n      <td>0.538079</td>\n      <td>-0.443889</td>\n      <td>0.205192</td>\n      <td>-0.205192</td>\n      <td>-0.196223</td>\n      <td>0.196223</td>\n    </tr>\n    <tr>\n      <th>2</th>\n      <td>0.883744</td>\n      <td>-0.819158</td>\n      <td>0.744612</td>\n      <td>-0.178274</td>\n      <td>-0.311877</td>\n      <td>0.558971</td>\n      <td>-0.188554</td>\n      <td>-0.136284</td>\n      <td>-0.270442</td>\n      <td>-0.285298</td>\n      <td>...</td>\n      <td>-0.219973</td>\n      <td>2.235620</td>\n      <td>-0.231741</td>\n      <td>-0.095043</td>\n      <td>-1.858462</td>\n      <td>2.252816</td>\n      <td>0.205192</td>\n      <td>-0.205192</td>\n      <td>-0.196223</td>\n      <td>0.196223</td>\n    </tr>\n    <tr>\n      <th>3</th>\n      <td>1.008221</td>\n      <td>-0.685893</td>\n      <td>1.216589</td>\n      <td>-0.178274</td>\n      <td>-0.311877</td>\n      <td>0.558971</td>\n      <td>-0.188554</td>\n      <td>-0.136284</td>\n      <td>-0.270442</td>\n      <td>-0.285298</td>\n      <td>...</td>\n      <td>-0.219973</td>\n      <td>2.235620</td>\n      <td>-0.231741</td>\n      <td>-0.095043</td>\n      <td>0.538079</td>\n      <td>-0.443889</td>\n      <td>0.205192</td>\n      <td>-0.205192</td>\n      <td>-0.196223</td>\n      <td>0.196223</td>\n    </tr>\n    <tr>\n      <th>4</th>\n      <td>-0.361028</td>\n      <td>-1.381296</td>\n      <td>-1.308119</td>\n      <td>1.195989</td>\n      <td>3.206391</td>\n      <td>-1.789003</td>\n      <td>-0.188554</td>\n      <td>-0.136284</td>\n      <td>-0.270442</td>\n      <td>-0.285298</td>\n      <td>...</td>\n      <td>-0.219973</td>\n      <td>2.235620</td>\n      <td>-0.231741</td>\n      <td>-0.095043</td>\n      <td>0.538079</td>\n      <td>-0.443889</td>\n      <td>0.205192</td>\n      <td>-0.205192</td>\n      <td>-0.196223</td>\n      <td>0.196223</td>\n    </tr>\n    <tr>\n      <th>...</th>\n      <td>...</td>\n      <td>...</td>\n      <td>...</td>\n      <td>...</td>\n      <td>...</td>\n      <td>...</td>\n      <td>...</td>\n      <td>...</td>\n      <td>...</td>\n      <td>...</td>\n      <td>...</td>\n      <td>...</td>\n      <td>...</td>\n      <td>...</td>\n      <td>...</td>\n      <td>...</td>\n      <td>...</td>\n      <td>...</td>\n      <td>...</td>\n      <td>...</td>\n      <td>...</td>\n    </tr>\n    <tr>\n      <th>260596</th>\n      <td>1.381653</td>\n      <td>1.536007</td>\n      <td>-1.271644</td>\n      <td>-1.552536</td>\n      <td>-0.311877</td>\n      <td>0.558971</td>\n      <td>-0.188554</td>\n      <td>-0.136284</td>\n      <td>-0.270442</td>\n      <td>-0.285298</td>\n      <td>...</td>\n      <td>-0.219973</td>\n      <td>-0.447303</td>\n      <td>-0.231741</td>\n      <td>-0.095043</td>\n      <td>0.538079</td>\n      <td>-0.443889</td>\n      <td>-4.873478</td>\n      <td>4.873478</td>\n      <td>-0.196223</td>\n      <td>0.196223</td>\n    </tr>\n    <tr>\n      <th>260597</th>\n      <td>0.385835</td>\n      <td>0.033741</td>\n      <td>-1.151250</td>\n      <td>-0.178274</td>\n      <td>-0.311877</td>\n      <td>0.558971</td>\n      <td>-0.188554</td>\n      <td>-0.136284</td>\n      <td>-0.270442</td>\n      <td>-0.285298</td>\n      <td>...</td>\n      <td>-0.219973</td>\n      <td>-0.447303</td>\n      <td>-0.231741</td>\n      <td>-0.095043</td>\n      <td>0.538079</td>\n      <td>-0.443889</td>\n      <td>0.205192</td>\n      <td>-0.205192</td>\n      <td>-0.196223</td>\n      <td>0.196223</td>\n    </tr>\n    <tr>\n      <th>260598</th>\n      <td>0.385835</td>\n      <td>-1.575137</td>\n      <td>0.522472</td>\n      <td>1.195989</td>\n      <td>-0.311877</td>\n      <td>0.558971</td>\n      <td>-0.188554</td>\n      <td>-0.136284</td>\n      <td>-0.270442</td>\n      <td>-0.285298</td>\n      <td>...</td>\n      <td>-0.219973</td>\n      <td>-0.447303</td>\n      <td>-0.231741</td>\n      <td>-0.095043</td>\n      <td>0.538079</td>\n      <td>-0.443889</td>\n      <td>0.205192</td>\n      <td>-0.205192</td>\n      <td>-0.196223</td>\n      <td>0.196223</td>\n    </tr>\n    <tr>\n      <th>260599</th>\n      <td>1.506130</td>\n      <td>-1.604213</td>\n      <td>-1.208568</td>\n      <td>-0.178274</td>\n      <td>-0.311877</td>\n      <td>-1.789003</td>\n      <td>-0.188554</td>\n      <td>-0.136284</td>\n      <td>-0.270442</td>\n      <td>3.505111</td>\n      <td>...</td>\n      <td>4.546009</td>\n      <td>-0.447303</td>\n      <td>4.315161</td>\n      <td>-0.095043</td>\n      <td>-1.858462</td>\n      <td>-0.443889</td>\n      <td>0.205192</td>\n      <td>-0.205192</td>\n      <td>-0.196223</td>\n      <td>0.196223</td>\n    </tr>\n    <tr>\n      <th>260600</th>\n      <td>0.883744</td>\n      <td>-1.676903</td>\n      <td>0.779715</td>\n      <td>1.195989</td>\n      <td>-0.311877</td>\n      <td>0.558971</td>\n      <td>-0.188554</td>\n      <td>-0.136284</td>\n      <td>-0.270442</td>\n      <td>-0.285298</td>\n      <td>...</td>\n      <td>-0.219973</td>\n      <td>-0.447303</td>\n      <td>4.315161</td>\n      <td>-0.095043</td>\n      <td>-1.858462</td>\n      <td>-0.443889</td>\n      <td>0.205192</td>\n      <td>-0.205192</td>\n      <td>-0.196223</td>\n      <td>0.196223</td>\n    </tr>\n  </tbody>\n</table>\n<p>260601 rows × 45 columns</p>\n</div>"
     },
     "execution_count": 59,
     "metadata": {},
     "output_type": "execute_result"
    }
   ],
   "source": [
    "train_data_cleaned_encoded_scaled"
   ],
   "metadata": {
    "collapsed": false,
    "pycharm": {
     "name": "#%%\n"
    }
   }
  },
  {
   "cell_type": "code",
   "execution_count": 62,
   "outputs": [
    {
     "data": {
      "text/plain": "       geo_level_1_id  geo_level_2_id  geo_level_3_id  count_floors_pre_eq  \\\n0            0.385835       -0.254597        1.384702             1.195989   \n1           -0.983414       -1.357066        1.571189            -0.178274   \n2            1.008221       -1.652673        1.038329            -0.178274   \n3            1.506130       -1.604213       -1.542599            -1.552536   \n4            0.385835       -0.998461        0.469543             1.195989   \n...               ...             ...             ...                  ...   \n86863       -1.232368       -0.232790       -0.722604             1.195989   \n86864       -0.485505        1.710464        1.549249             1.195989   \n86865        1.008221        1.053828        0.398788            -1.552536   \n86866       -0.983414        0.823642       -1.466085            -0.178274   \n86867        1.506130       -1.611482        0.048850            -0.178274   \n\n       has_superstructure_adobe_mud  has_superstructure_mud_mortar_stone  \\\n0                         -0.311877                             0.558971   \n1                         -0.311877                             0.558971   \n2                         -0.311877                             0.558971   \n3                         -0.311877                            -1.789003   \n4                         -0.311877                             0.558971   \n...                             ...                                  ...   \n86863                     -0.311877                             0.558971   \n86864                      3.206391                             0.558971   \n86865                     -0.311877                             0.558971   \n86866                      3.206391                             0.558971   \n86867                     -0.311877                            -1.789003   \n\n       has_superstructure_stone_flag  has_superstructure_cement_mortar_stone  \\\n0                          -0.188554                               -0.136284   \n1                          -0.188554                               -0.136284   \n2                          -0.188554                               -0.136284   \n3                          -0.188554                               -0.136284   \n4                          -0.188554                               -0.136284   \n...                              ...                                     ...   \n86863                      -0.188554                               -0.136284   \n86864                       5.303508                               -0.136284   \n86865                      -0.188554                               -0.136284   \n86866                      -0.188554                               -0.136284   \n86867                      -0.188554                               -0.136284   \n\n       has_superstructure_mud_mortar_brick  \\\n0                                -0.270442   \n1                                -0.270442   \n2                                -0.270442   \n3                                -0.270442   \n4                                -0.270442   \n...                                    ...   \n86863                            -0.270442   \n86864                            -0.270442   \n86865                            -0.270442   \n86866                            -0.270442   \n86867                            -0.270442   \n\n       has_superstructure_cement_mortar_brick  ...  other_floor_type_s  \\\n0                                   -0.285298  ...           -0.219973   \n1                                   -0.285298  ...           -0.219973   \n2                                   -0.285298  ...           -0.219973   \n3                                    3.505111  ...           -0.219973   \n4                                   -0.285298  ...           -0.219973   \n...                                       ...  ...                 ...   \n86863                               -0.285298  ...           -0.219973   \n86864                               -0.285298  ...           -0.219973   \n86865                               -0.285298  ...           -0.219973   \n86866                               -0.285298  ...           -0.219973   \n86867                                3.505111  ...           -0.219973   \n\n       other_floor_type_x  position_j  position_o  position_s  position_t  \\\n0               -0.447303   -0.231741   -0.095043    0.538079   -0.443889   \n1               -0.447303   -0.231741   -0.095043    0.538079   -0.443889   \n2               -0.447303   -0.231741   -0.095043    0.538079   -0.443889   \n3               -0.447303   -0.231741   -0.095043   -1.858462    2.252816   \n4               -0.447303   -0.231741   -0.095043   -1.858462    2.252816   \n...                   ...         ...         ...         ...         ...   \n86863           -0.447303   -0.231741   -0.095043   -1.858462    2.252816   \n86864           -0.447303   -0.231741   -0.095043    0.538079   -0.443889   \n86865           -0.447303   -0.231741   -0.095043    0.538079   -0.443889   \n86866           -0.447303   -0.231741   -0.095043    0.538079   -0.443889   \n86867           -0.447303   -0.231741   -0.095043    0.538079   -0.443889   \n\n       plan_configuration_d  plan_configuration_others  \\\n0                  0.205192                  -0.205192   \n1                  0.205192                  -0.205192   \n2                  0.205192                  -0.205192   \n3                  0.205192                  -0.205192   \n4                  0.205192                  -0.205192   \n...                     ...                        ...   \n86863              0.205192                  -0.205192   \n86864              0.205192                  -0.205192   \n86865              0.205192                  -0.205192   \n86866              0.205192                  -0.205192   \n86867              0.205192                  -0.205192   \n\n       legal_ownership_status_others  legal_ownership_status_v  \n0                          -0.196223                  0.196223  \n1                          -0.196223                  0.196223  \n2                          -0.196223                  0.196223  \n3                          -0.196223                  0.196223  \n4                          -0.196223                  0.196223  \n...                              ...                       ...  \n86863                       5.096248                 -5.096248  \n86864                      -0.196223                  0.196223  \n86865                      -0.196223                  0.196223  \n86866                       5.096248                 -5.096248  \n86867                      -0.196223                  0.196223  \n\n[86868 rows x 45 columns]",
      "text/html": "<div>\n<style scoped>\n    .dataframe tbody tr th:only-of-type {\n        vertical-align: middle;\n    }\n\n    .dataframe tbody tr th {\n        vertical-align: top;\n    }\n\n    .dataframe thead th {\n        text-align: right;\n    }\n</style>\n<table border=\"1\" class=\"dataframe\">\n  <thead>\n    <tr style=\"text-align: right;\">\n      <th></th>\n      <th>geo_level_1_id</th>\n      <th>geo_level_2_id</th>\n      <th>geo_level_3_id</th>\n      <th>count_floors_pre_eq</th>\n      <th>has_superstructure_adobe_mud</th>\n      <th>has_superstructure_mud_mortar_stone</th>\n      <th>has_superstructure_stone_flag</th>\n      <th>has_superstructure_cement_mortar_stone</th>\n      <th>has_superstructure_mud_mortar_brick</th>\n      <th>has_superstructure_cement_mortar_brick</th>\n      <th>...</th>\n      <th>other_floor_type_s</th>\n      <th>other_floor_type_x</th>\n      <th>position_j</th>\n      <th>position_o</th>\n      <th>position_s</th>\n      <th>position_t</th>\n      <th>plan_configuration_d</th>\n      <th>plan_configuration_others</th>\n      <th>legal_ownership_status_others</th>\n      <th>legal_ownership_status_v</th>\n    </tr>\n  </thead>\n  <tbody>\n    <tr>\n      <th>0</th>\n      <td>0.385835</td>\n      <td>-0.254597</td>\n      <td>1.384702</td>\n      <td>1.195989</td>\n      <td>-0.311877</td>\n      <td>0.558971</td>\n      <td>-0.188554</td>\n      <td>-0.136284</td>\n      <td>-0.270442</td>\n      <td>-0.285298</td>\n      <td>...</td>\n      <td>-0.219973</td>\n      <td>-0.447303</td>\n      <td>-0.231741</td>\n      <td>-0.095043</td>\n      <td>0.538079</td>\n      <td>-0.443889</td>\n      <td>0.205192</td>\n      <td>-0.205192</td>\n      <td>-0.196223</td>\n      <td>0.196223</td>\n    </tr>\n    <tr>\n      <th>1</th>\n      <td>-0.983414</td>\n      <td>-1.357066</td>\n      <td>1.571189</td>\n      <td>-0.178274</td>\n      <td>-0.311877</td>\n      <td>0.558971</td>\n      <td>-0.188554</td>\n      <td>-0.136284</td>\n      <td>-0.270442</td>\n      <td>-0.285298</td>\n      <td>...</td>\n      <td>-0.219973</td>\n      <td>-0.447303</td>\n      <td>-0.231741</td>\n      <td>-0.095043</td>\n      <td>0.538079</td>\n      <td>-0.443889</td>\n      <td>0.205192</td>\n      <td>-0.205192</td>\n      <td>-0.196223</td>\n      <td>0.196223</td>\n    </tr>\n    <tr>\n      <th>2</th>\n      <td>1.008221</td>\n      <td>-1.652673</td>\n      <td>1.038329</td>\n      <td>-0.178274</td>\n      <td>-0.311877</td>\n      <td>0.558971</td>\n      <td>-0.188554</td>\n      <td>-0.136284</td>\n      <td>-0.270442</td>\n      <td>-0.285298</td>\n      <td>...</td>\n      <td>-0.219973</td>\n      <td>-0.447303</td>\n      <td>-0.231741</td>\n      <td>-0.095043</td>\n      <td>0.538079</td>\n      <td>-0.443889</td>\n      <td>0.205192</td>\n      <td>-0.205192</td>\n      <td>-0.196223</td>\n      <td>0.196223</td>\n    </tr>\n    <tr>\n      <th>3</th>\n      <td>1.506130</td>\n      <td>-1.604213</td>\n      <td>-1.542599</td>\n      <td>-1.552536</td>\n      <td>-0.311877</td>\n      <td>-1.789003</td>\n      <td>-0.188554</td>\n      <td>-0.136284</td>\n      <td>-0.270442</td>\n      <td>3.505111</td>\n      <td>...</td>\n      <td>-0.219973</td>\n      <td>-0.447303</td>\n      <td>-0.231741</td>\n      <td>-0.095043</td>\n      <td>-1.858462</td>\n      <td>2.252816</td>\n      <td>0.205192</td>\n      <td>-0.205192</td>\n      <td>-0.196223</td>\n      <td>0.196223</td>\n    </tr>\n    <tr>\n      <th>4</th>\n      <td>0.385835</td>\n      <td>-0.998461</td>\n      <td>0.469543</td>\n      <td>1.195989</td>\n      <td>-0.311877</td>\n      <td>0.558971</td>\n      <td>-0.188554</td>\n      <td>-0.136284</td>\n      <td>-0.270442</td>\n      <td>-0.285298</td>\n      <td>...</td>\n      <td>-0.219973</td>\n      <td>-0.447303</td>\n      <td>-0.231741</td>\n      <td>-0.095043</td>\n      <td>-1.858462</td>\n      <td>2.252816</td>\n      <td>0.205192</td>\n      <td>-0.205192</td>\n      <td>-0.196223</td>\n      <td>0.196223</td>\n    </tr>\n    <tr>\n      <th>...</th>\n      <td>...</td>\n      <td>...</td>\n      <td>...</td>\n      <td>...</td>\n      <td>...</td>\n      <td>...</td>\n      <td>...</td>\n      <td>...</td>\n      <td>...</td>\n      <td>...</td>\n      <td>...</td>\n      <td>...</td>\n      <td>...</td>\n      <td>...</td>\n      <td>...</td>\n      <td>...</td>\n      <td>...</td>\n      <td>...</td>\n      <td>...</td>\n      <td>...</td>\n      <td>...</td>\n    </tr>\n    <tr>\n      <th>86863</th>\n      <td>-1.232368</td>\n      <td>-0.232790</td>\n      <td>-0.722604</td>\n      <td>1.195989</td>\n      <td>-0.311877</td>\n      <td>0.558971</td>\n      <td>-0.188554</td>\n      <td>-0.136284</td>\n      <td>-0.270442</td>\n      <td>-0.285298</td>\n      <td>...</td>\n      <td>-0.219973</td>\n      <td>-0.447303</td>\n      <td>-0.231741</td>\n      <td>-0.095043</td>\n      <td>-1.858462</td>\n      <td>2.252816</td>\n      <td>0.205192</td>\n      <td>-0.205192</td>\n      <td>5.096248</td>\n      <td>-5.096248</td>\n    </tr>\n    <tr>\n      <th>86864</th>\n      <td>-0.485505</td>\n      <td>1.710464</td>\n      <td>1.549249</td>\n      <td>1.195989</td>\n      <td>3.206391</td>\n      <td>0.558971</td>\n      <td>5.303508</td>\n      <td>-0.136284</td>\n      <td>-0.270442</td>\n      <td>-0.285298</td>\n      <td>...</td>\n      <td>-0.219973</td>\n      <td>-0.447303</td>\n      <td>-0.231741</td>\n      <td>-0.095043</td>\n      <td>0.538079</td>\n      <td>-0.443889</td>\n      <td>0.205192</td>\n      <td>-0.205192</td>\n      <td>-0.196223</td>\n      <td>0.196223</td>\n    </tr>\n    <tr>\n      <th>86865</th>\n      <td>1.008221</td>\n      <td>1.053828</td>\n      <td>0.398788</td>\n      <td>-1.552536</td>\n      <td>-0.311877</td>\n      <td>0.558971</td>\n      <td>-0.188554</td>\n      <td>-0.136284</td>\n      <td>-0.270442</td>\n      <td>-0.285298</td>\n      <td>...</td>\n      <td>-0.219973</td>\n      <td>-0.447303</td>\n      <td>-0.231741</td>\n      <td>-0.095043</td>\n      <td>0.538079</td>\n      <td>-0.443889</td>\n      <td>0.205192</td>\n      <td>-0.205192</td>\n      <td>-0.196223</td>\n      <td>0.196223</td>\n    </tr>\n    <tr>\n      <th>86866</th>\n      <td>-0.983414</td>\n      <td>0.823642</td>\n      <td>-1.466085</td>\n      <td>-0.178274</td>\n      <td>3.206391</td>\n      <td>0.558971</td>\n      <td>-0.188554</td>\n      <td>-0.136284</td>\n      <td>-0.270442</td>\n      <td>-0.285298</td>\n      <td>...</td>\n      <td>-0.219973</td>\n      <td>-0.447303</td>\n      <td>-0.231741</td>\n      <td>-0.095043</td>\n      <td>0.538079</td>\n      <td>-0.443889</td>\n      <td>0.205192</td>\n      <td>-0.205192</td>\n      <td>5.096248</td>\n      <td>-5.096248</td>\n    </tr>\n    <tr>\n      <th>86867</th>\n      <td>1.506130</td>\n      <td>-1.611482</td>\n      <td>0.048850</td>\n      <td>-0.178274</td>\n      <td>-0.311877</td>\n      <td>-1.789003</td>\n      <td>-0.188554</td>\n      <td>-0.136284</td>\n      <td>-0.270442</td>\n      <td>3.505111</td>\n      <td>...</td>\n      <td>-0.219973</td>\n      <td>-0.447303</td>\n      <td>-0.231741</td>\n      <td>-0.095043</td>\n      <td>0.538079</td>\n      <td>-0.443889</td>\n      <td>0.205192</td>\n      <td>-0.205192</td>\n      <td>-0.196223</td>\n      <td>0.196223</td>\n    </tr>\n  </tbody>\n</table>\n<p>86868 rows × 45 columns</p>\n</div>"
     },
     "execution_count": 62,
     "metadata": {},
     "output_type": "execute_result"
    }
   ],
   "source": [
    "test_data_cleaned_encoded_scaled"
   ],
   "metadata": {
    "collapsed": false,
    "pycharm": {
     "name": "#%%\n"
    }
   }
  },
  {
   "cell_type": "code",
   "execution_count": 57,
   "outputs": [],
   "source": [],
   "metadata": {
    "collapsed": false,
    "pycharm": {
     "name": "#%%\n"
    }
   }
  }
 ],
 "metadata": {
  "kernelspec": {
   "display_name": "Python 3",
   "language": "python",
   "name": "python3"
  },
  "language_info": {
   "codemirror_mode": {
    "name": "ipython",
    "version": 2
   },
   "file_extension": ".py",
   "mimetype": "text/x-python",
   "name": "python",
   "nbconvert_exporter": "python",
   "pygments_lexer": "ipython2",
   "version": "2.7.6"
  }
 },
 "nbformat": 4,
 "nbformat_minor": 0
}