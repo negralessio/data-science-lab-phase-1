{
 "cells": [
  {
   "cell_type": "code",
   "execution_count": 1,
   "id": "a724ee94",
   "metadata": {},
   "outputs": [],
   "source": [
    "from sklearn.decomposition import PCA\n",
    "from sklearn.manifold import Isomap, LocallyLinearEmbedding\n",
    "\n",
    "import pandas as pd"
   ]
  },
  {
   "cell_type": "code",
   "execution_count": 2,
   "id": "ca267ccf",
   "metadata": {},
   "outputs": [],
   "source": [
    "# Read provided data\n",
    "x_train = pd.read_csv(\"../../data/raw/train_values.csv\")\n",
    "y_train = pd.read_csv(\"../../data/raw/train_labels.csv\")\n",
    "x_test = pd.read_csv(\"../../data/raw/test_values.csv\")"
   ]
  },
  {
   "cell_type": "code",
   "execution_count": 8,
   "id": "b19743b2",
   "metadata": {},
   "outputs": [
    {
     "name": "stdout",
     "output_type": "stream",
     "text": [
      "(100, 39)\n",
      "(100, 69)\n",
      "(100, 3)\n"
     ]
    }
   ],
   "source": [
    "print(x_train[:100].shape)\n",
    "\n",
    "# But first we need to transform the categorical features\n",
    "x_train_lle = pd.get_dummies(x_train)\n",
    "print(x_train_lle[:100].shape)\n",
    "\n",
    "# LLE\n",
    "embedding = LocallyLinearEmbedding(n_neighbors=5, n_components=3)\n",
    "x_transformed = embedding.fit_transform(x_train_lle[:100])\n",
    "\n",
    "print(x_transformed.shape)"
   ]
  },
  {
   "cell_type": "code",
   "execution_count": 11,
   "id": "14251dfb",
   "metadata": {},
   "outputs": [
    {
     "name": "stdout",
     "output_type": "stream",
     "text": [
      "(100, 39)\n",
      "(100, 69)\n",
      "(100, 2)\n"
     ]
    }
   ],
   "source": [
    "print(x_train[:100].shape)\n",
    "\n",
    "# But first we need to transform the categorical features\n",
    "x_train_isomap = pd.get_dummies(x_train)\n",
    "print(x_train_isomap[:100].shape)\n",
    "\n",
    "# Isomap\n",
    "embedding = Isomap(n_neighbors=5, n_components=2)\n",
    "x_transformed = embedding.fit_transform(x_train_isomap[:100])\n",
    "\n",
    "print(x_transformed.shape)"
   ]
  },
  {
   "cell_type": "code",
   "execution_count": 14,
   "id": "8c62f319",
   "metadata": {},
   "outputs": [
    {
     "name": "stdout",
     "output_type": "stream",
     "text": [
      "(100, 39)\n",
      "(100, 69)\n",
      "(100, 10)\n"
     ]
    }
   ],
   "source": [
    "print(x_train[:100].shape)\n",
    "\n",
    "# But first we need to transform the categorical features\n",
    "x_train_pca = pd.get_dummies(x_train)\n",
    "print(x_train_pca[:100].shape)\n",
    "\n",
    "# Isomap\n",
    "embedding = PCA(n_components=10)\n",
    "x_transformed = embedding.fit_transform(x_train_pca[:100])\n",
    "\n",
    "print(x_transformed.shape)"
   ]
  },
  {
   "cell_type": "code",
   "execution_count": null,
   "id": "b2af93c6",
   "metadata": {},
   "outputs": [],
   "source": []
  }
 ],
 "metadata": {
  "kernelspec": {
   "display_name": "Python 3 (ipykernel)",
   "language": "python",
   "name": "python3"
  },
  "language_info": {
   "codemirror_mode": {
    "name": "ipython",
    "version": 3
   },
   "file_extension": ".py",
   "mimetype": "text/x-python",
   "name": "python",
   "nbconvert_exporter": "python",
   "pygments_lexer": "ipython3",
   "version": "3.10.0"
  }
 },
 "nbformat": 4,
 "nbformat_minor": 5
}
