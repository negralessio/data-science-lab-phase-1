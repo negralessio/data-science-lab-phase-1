{
 "cells": [
  {
   "cell_type": "code",
   "execution_count": 1,
   "id": "e664e184",
   "metadata": {},
   "outputs": [],
   "source": [
    "import pandas as pd\n",
    "import seaborn as sns\n",
    "import time\n",
    "import numpy as np\n",
    "import matplotlib.pyplot as plt\n",
    "\n",
    "from sklearn.preprocessing import LabelEncoder\n",
    "from sklearn.metrics import matthews_corrcoef, make_scorer\n",
    "from sklearn.model_selection import cross_validate\n",
    "\n",
    "import xgboost\n",
    "\n",
    "from collections import Counter\n",
    "\n",
    "sns.set_theme(style=\"whitegrid\")\n",
    "sns.set_palette(palette=\"Paired\")\n",
    "SEED: int = 42"
   ]
  },
  {
   "cell_type": "code",
   "execution_count": 2,
   "id": "548acbd9",
   "metadata": {},
   "outputs": [],
   "source": [
    "train_data = pd.read_csv(\"../../data/processed/train_data_cleaned.csv\", index_col=\"building_id\")\n",
    "y_train = pd.read_csv(\"../../data/processed/train_labels.csv\", index_col=\"building_id\", usecols=[\"building_id\", \"damage_grade\"])"
   ]
  },
  {
   "cell_type": "code",
   "execution_count": 3,
   "id": "8250ada3",
   "metadata": {},
   "outputs": [],
   "source": [
    "encoder = LabelEncoder()\n",
    "train_labels = encoder.fit_transform(y_train[\"damage_grade\"].to_numpy())"
   ]
  },
  {
   "cell_type": "code",
   "execution_count": 4,
   "id": "05984b67",
   "metadata": {},
   "outputs": [
    {
     "name": "stdout",
     "output_type": "stream",
     "text": [
      "Original counts of labels Counter({1: 148259, 2: 87218, 0: 25124})\n"
     ]
    }
   ],
   "source": [
    "print('Original counts of labels %s' % Counter(train_labels))"
   ]
  },
  {
   "cell_type": "code",
   "execution_count": 5,
   "id": "424109a9",
   "metadata": {},
   "outputs": [],
   "source": [
    "model = xgboost.XGBClassifier(n_estimators=100,\n",
    "                              max_depth=20,\n",
    "                              learning_rate=0.1,\n",
    "                              subsample=0.8,\n",
    "                              colsample_bytree=0.8,\n",
    "                              random_state=42,\n",
    "                              n_jobs=-1)\n",
    "\n",
    "scoring = make_scorer(matthews_corrcoef)"
   ]
  },
  {
   "cell_type": "code",
   "execution_count": null,
   "id": "664f4a27",
   "metadata": {},
   "outputs": [],
   "source": [
    " %%time\n",
    "\n",
    "cv_results = cross_validate(model, train_data, train_labels, cv=5,\n",
    "                            scoring=scoring,\n",
    "                            n_jobs=-1,\n",
    "                            return_train_score=True)"
   ]
  },
  {
   "cell_type": "code",
   "execution_count": null,
   "id": "b896e5f6",
   "metadata": {},
   "outputs": [],
   "source": [
    "print(f\"CV Test: {round(np.mean(cv_results['test_score']), 4)} +/- {round(np.std(cv_results['test_score']), 4)} MCC\")"
   ]
  },
  {
   "cell_type": "markdown",
   "id": "e9484079",
   "metadata": {},
   "source": [
    "# Ensemble methods"
   ]
  },
  {
   "cell_type": "markdown",
   "id": "cd997e78",
   "metadata": {},
   "source": [
    "## EasyEnsembleClassifier"
   ]
  },
  {
   "cell_type": "code",
   "execution_count": null,
   "id": "e12d6ec5",
   "metadata": {},
   "outputs": [],
   "source": [
    "%%time\n",
    "\n",
    "from imblearn.ensemble import EasyEnsembleClassifier\n",
    "\n",
    "eec = EasyEnsembleClassifier(random_state=42)\n",
    "cv_results = cross_validate(eec, train_data, train_labels, cv=5,\n",
    "                            scoring=scoring,  #\"accuracy\",\n",
    "                            n_jobs=-1,\n",
    "                            return_train_score=True,\n",
    "                            verbose=1)\n",
    "\n",
    "print(f\"CV Test: {round(np.mean(cv_results['test_score']), 4)} +/- {round(np.std(cv_results['test_score']), 4)} MCC\")"
   ]
  },
  {
   "cell_type": "markdown",
   "id": "5e252bf2",
   "metadata": {},
   "source": [
    "## RUSBoostClassifier"
   ]
  },
  {
   "cell_type": "code",
   "execution_count": null,
   "id": "5d2b9919",
   "metadata": {},
   "outputs": [],
   "source": [
    "%%time\n",
    "\n",
    "from imblearn.ensemble import RUSBoostClassifier\n",
    "\n",
    "model = RUSBoostClassifier(random_state=42)\n",
    "cv_results = cross_validate(model, train_data, train_labels, cv=5,\n",
    "                            scoring=scoring,\n",
    "                            n_jobs=-1,\n",
    "                            return_train_score=True,\n",
    "                            verbose=1)\n",
    "\n",
    "print(f\"CV Test: {round(np.mean(cv_results['test_score']), 4)} +/- {round(np.std(cv_results['test_score']), 4)} MCC\")"
   ]
  },
  {
   "cell_type": "markdown",
   "id": "488ddc1f",
   "metadata": {},
   "source": [
    "## BalancedBaggingClassifier"
   ]
  },
  {
   "cell_type": "code",
   "execution_count": null,
   "id": "8880a4af",
   "metadata": {},
   "outputs": [],
   "source": [
    "%%time\n",
    "\n",
    "from imblearn.ensemble import BalancedBaggingClassifier\n",
    "\n",
    "bbc = BalancedBaggingClassifier(random_state=42)\n",
    "cv_results = cross_validate(bbc, train_data, train_labels, cv=5,\n",
    "                            scoring=scoring,  #\"accuracy\",\n",
    "                            n_jobs=-1,\n",
    "                            return_train_score=True,\n",
    "                            verbose=1)\n",
    "\n",
    "print(f\"CV Test: {round(np.mean(cv_results['test_score']), 4)} +/- {round(np.std(cv_results['test_score']), 4)} MCC\")"
   ]
  },
  {
   "cell_type": "markdown",
   "id": "8ab987e8",
   "metadata": {},
   "source": [
    "## BalancedRandomForestClassifier"
   ]
  },
  {
   "cell_type": "code",
   "execution_count": null,
   "id": "29460e71",
   "metadata": {},
   "outputs": [],
   "source": [
    "%%time\n",
    "\n",
    "from imblearn.ensemble import BalancedRandomForestClassifier\n",
    "\n",
    "model = BalancedRandomForestClassifier(random_state=42)\n",
    "cv_results = cross_validate(model, train_data, train_labels, cv=5,\n",
    "                            scoring=scoring,  #\"accuracy\",\n",
    "                            n_jobs=-1,\n",
    "                            return_train_score=True,\n",
    "                            verbose=1)\n",
    "\n",
    "print(f\"CV Test: {round(np.mean(cv_results['test_score']), 4)} +/- {round(np.std(cv_results['test_score']), 4)} MCC\")"
   ]
  },
  {
   "cell_type": "markdown",
   "id": "e16ac572",
   "metadata": {},
   "source": [
    "# Using hold out set"
   ]
  },
  {
   "cell_type": "markdown",
   "id": "b63e89a0",
   "metadata": {},
   "source": [
    "## EasyEnsembleClassifier"
   ]
  },
  {
   "cell_type": "code",
   "execution_count": null,
   "id": "d1e144e6",
   "metadata": {},
   "outputs": [],
   "source": []
  },
  {
   "cell_type": "code",
   "execution_count": null,
   "id": "c76f64f9",
   "metadata": {},
   "outputs": [],
   "source": []
  },
  {
   "cell_type": "code",
   "execution_count": null,
   "id": "732fd559",
   "metadata": {},
   "outputs": [],
   "source": []
  },
  {
   "cell_type": "code",
   "execution_count": null,
   "id": "80fdae54",
   "metadata": {},
   "outputs": [],
   "source": []
  },
  {
   "cell_type": "code",
   "execution_count": null,
   "id": "8bd7d518",
   "metadata": {},
   "outputs": [],
   "source": []
  },
  {
   "cell_type": "code",
   "execution_count": null,
   "id": "5f123558",
   "metadata": {},
   "outputs": [],
   "source": []
  },
  {
   "cell_type": "code",
   "execution_count": null,
   "id": "1f3253fb",
   "metadata": {},
   "outputs": [],
   "source": []
  },
  {
   "cell_type": "code",
   "execution_count": null,
   "id": "27c205d6",
   "metadata": {},
   "outputs": [],
   "source": []
  }
 ],
 "metadata": {
  "kernelspec": {
   "display_name": "Python 3 (ipykernel)",
   "language": "python",
   "name": "python3"
  },
  "language_info": {
   "codemirror_mode": {
    "name": "ipython",
    "version": 3
   },
   "file_extension": ".py",
   "mimetype": "text/x-python",
   "name": "python",
   "nbconvert_exporter": "python",
   "pygments_lexer": "ipython3",
   "version": "3.10.0"
  }
 },
 "nbformat": 4,
 "nbformat_minor": 5
}
