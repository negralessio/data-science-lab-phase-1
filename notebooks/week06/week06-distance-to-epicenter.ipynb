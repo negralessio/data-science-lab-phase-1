{
 "cells": [
  {
   "cell_type": "code",
   "execution_count": 1,
   "id": "4a054ac4",
   "metadata": {},
   "outputs": [],
   "source": [
    "import pandas as pd\n",
    "import seaborn as sns\n",
    "import numpy as np\n",
    "import matplotlib.pyplot as plt\n",
    "\n",
    "from sklearn.model_selection import cross_validate\n",
    "from sklearn.preprocessing import LabelEncoder\n",
    "\n",
    "import xgboost\n",
    "\n",
    "sns.set_theme(style=\"whitegrid\")\n",
    "sns.set_palette(palette=\"Paired\")\n",
    "SEED: int = 42"
   ]
  },
  {
   "cell_type": "markdown",
   "id": "c2415801",
   "metadata": {},
   "source": [
    "# Purpose of this notebook\n",
    "\n",
    "Also try to use the coordinates as presented from the group 'Greyjoy'. \n",
    "But also add more information: The distance to the epicenter of the earthquake. "
   ]
  },
  {
   "cell_type": "code",
   "execution_count": 61,
   "id": "7a022239",
   "metadata": {},
   "outputs": [],
   "source": [
    "train_data = pd.read_csv(\"../../data/raw/train_values.csv\", index_col=\"building_id\")\n",
    "y_train = pd.read_csv(\"../../data/raw/train_labels.csv\", index_col=\"building_id\", usecols=[\"building_id\", \"damage_grade\"])"
   ]
  },
  {
   "cell_type": "code",
   "execution_count": 3,
   "id": "be2deda6",
   "metadata": {},
   "outputs": [],
   "source": [
    "encoder = LabelEncoder()\n",
    "train_labels = encoder.fit_transform(y_train[\"damage_grade\"].to_numpy())"
   ]
  },
  {
   "cell_type": "code",
   "execution_count": 21,
   "id": "47a26dee",
   "metadata": {},
   "outputs": [],
   "source": [
    "geocoded_districts = pd.read_csv(\"../../data/processed/geocoded_districts_relative_number.csv\")"
   ]
  },
  {
   "cell_type": "code",
   "execution_count": 22,
   "id": "420bdae4",
   "metadata": {},
   "outputs": [
    {
     "data": {
      "text/html": [
       "<div>\n",
       "<style scoped>\n",
       "    .dataframe tbody tr th:only-of-type {\n",
       "        vertical-align: middle;\n",
       "    }\n",
       "\n",
       "    .dataframe tbody tr th {\n",
       "        vertical-align: top;\n",
       "    }\n",
       "\n",
       "    .dataframe thead th {\n",
       "        text-align: right;\n",
       "    }\n",
       "</style>\n",
       "<table border=\"1\" class=\"dataframe\">\n",
       "  <thead>\n",
       "    <tr style=\"text-align: right;\">\n",
       "      <th></th>\n",
       "      <th>dcode</th>\n",
       "      <th>district</th>\n",
       "      <th>loc</th>\n",
       "      <th>latitude</th>\n",
       "      <th>longitude</th>\n",
       "      <th>cases_absolute</th>\n",
       "      <th>cases_total</th>\n",
       "      <th>cases_relative</th>\n",
       "    </tr>\n",
       "  </thead>\n",
       "  <tbody>\n",
       "    <tr>\n",
       "      <th>0</th>\n",
       "      <td>7</td>\n",
       "      <td>Dhankuta</td>\n",
       "      <td>POINT (830923.6221963036 2990403.9441179214)</td>\n",
       "      <td>2.990404e+06</td>\n",
       "      <td>830923.622196</td>\n",
       "      <td>4491</td>\n",
       "      <td>996588</td>\n",
       "      <td>0.450638</td>\n",
       "    </tr>\n",
       "    <tr>\n",
       "      <th>1</th>\n",
       "      <td>9</td>\n",
       "      <td>Sankhuwasabha</td>\n",
       "      <td>POINT (823967.8875543519 3055813.003124751)</td>\n",
       "      <td>3.055813e+06</td>\n",
       "      <td>823967.887554</td>\n",
       "      <td>4966</td>\n",
       "      <td>996588</td>\n",
       "      <td>0.498300</td>\n",
       "    </tr>\n",
       "    <tr>\n",
       "      <th>2</th>\n",
       "      <td>10</td>\n",
       "      <td>Bhojpur</td>\n",
       "      <td>POINT (804271.7821892153 3010893.8427118193)</td>\n",
       "      <td>3.010894e+06</td>\n",
       "      <td>804271.782189</td>\n",
       "      <td>9242</td>\n",
       "      <td>996588</td>\n",
       "      <td>0.927364</td>\n",
       "    </tr>\n",
       "    <tr>\n",
       "      <th>3</th>\n",
       "      <td>11</td>\n",
       "      <td>Solukhumbhu</td>\n",
       "      <td>POINT (768535.2635735668 3068706.4528159057)</td>\n",
       "      <td>3.068706e+06</td>\n",
       "      <td>768535.263574</td>\n",
       "      <td>17000</td>\n",
       "      <td>996588</td>\n",
       "      <td>1.705820</td>\n",
       "    </tr>\n",
       "    <tr>\n",
       "      <th>4</th>\n",
       "      <td>12</td>\n",
       "      <td>Okhaldhunga</td>\n",
       "      <td>POINT (739586.4122948735 3025872.434064191)</td>\n",
       "      <td>3.025872e+06</td>\n",
       "      <td>739586.412295</td>\n",
       "      <td>36480</td>\n",
       "      <td>996588</td>\n",
       "      <td>3.660490</td>\n",
       "    </tr>\n",
       "  </tbody>\n",
       "</table>\n",
       "</div>"
      ],
      "text/plain": [
       "   dcode       district                                           loc   \n",
       "0      7       Dhankuta  POINT (830923.6221963036 2990403.9441179214)  \\\n",
       "1      9  Sankhuwasabha   POINT (823967.8875543519 3055813.003124751)   \n",
       "2     10        Bhojpur  POINT (804271.7821892153 3010893.8427118193)   \n",
       "3     11    Solukhumbhu  POINT (768535.2635735668 3068706.4528159057)   \n",
       "4     12    Okhaldhunga   POINT (739586.4122948735 3025872.434064191)   \n",
       "\n",
       "       latitude      longitude  cases_absolute  cases_total  cases_relative  \n",
       "0  2.990404e+06  830923.622196            4491       996588        0.450638  \n",
       "1  3.055813e+06  823967.887554            4966       996588        0.498300  \n",
       "2  3.010894e+06  804271.782189            9242       996588        0.927364  \n",
       "3  3.068706e+06  768535.263574           17000       996588        1.705820  \n",
       "4  3.025872e+06  739586.412295           36480       996588        3.660490  "
      ]
     },
     "execution_count": 22,
     "metadata": {},
     "output_type": "execute_result"
    }
   ],
   "source": [
    "geocoded_districts.head()"
   ]
  },
  {
   "cell_type": "code",
   "execution_count": 23,
   "id": "133c156f",
   "metadata": {},
   "outputs": [
    {
     "name": "stdout",
     "output_type": "stream",
     "text": [
      "<class 'pandas.core.frame.DataFrame'>\n",
      "RangeIndex: 31 entries, 0 to 30\n",
      "Data columns (total 8 columns):\n",
      " #   Column          Non-Null Count  Dtype  \n",
      "---  ------          --------------  -----  \n",
      " 0   dcode           31 non-null     int64  \n",
      " 1   district        31 non-null     object \n",
      " 2   loc             31 non-null     object \n",
      " 3   latitude        31 non-null     float64\n",
      " 4   longitude       31 non-null     float64\n",
      " 5   cases_absolute  31 non-null     int64  \n",
      " 6   cases_total     31 non-null     int64  \n",
      " 7   cases_relative  31 non-null     float64\n",
      "dtypes: float64(3), int64(3), object(2)\n",
      "memory usage: 2.1+ KB\n"
     ]
    }
   ],
   "source": [
    "geocoded_districts.info()"
   ]
  },
  {
   "cell_type": "code",
   "execution_count": 56,
   "id": "1e0a7954",
   "metadata": {},
   "outputs": [
    {
     "data": {
      "image/png": "[encoded data removed]",
      "text/plain": [
       "<Figure size 640x480 with 1 Axes>"
      ]
     },
     "metadata": {},
     "output_type": "display_data"
    }
   ],
   "source": [
    "#plt.figure(figsize=(15,5))\n",
    "g = sns.barplot(geocoded_districts.sort_values(\"cases_absolute\", ascending=False),  \n",
    "                x=\"district\", \n",
    "                y=\"cases_relative\",)\n",
    "\n",
    "for item in g.get_xticklabels():\n",
    "    item.set_rotation(90)\n",
    "#g.set_xticklabels(rotation=90)"
   ]
  },
  {
   "cell_type": "code",
   "execution_count": 110,
   "id": "7b14f5a2",
   "metadata": {},
   "outputs": [],
   "source": [
    "# Get distribution of our data set\n",
    "result = pd.DataFrame(columns=[\"geo_level_1_id\", \"total\"])\n",
    "\n",
    "data = {\n",
    "    \"geo_level_1_id\": train_data.reset_index()[\"geo_level_1_id\"], \n",
    "    \"total\"         : [1] * train_data.shape[0]\n",
    "}\n",
    "result = pd.DataFrame(data=data)\n",
    "result = result.groupby(\"geo_level_1_id\").count()\n",
    "result[\"ratio\"] = 100 * result[\"total\"] / train_data.shape[0]\n",
    "result = result.reset_index().sort_values(\"total\", ascending=False)"
   ]
  },
  {
   "cell_type": "code",
   "execution_count": 111,
   "id": "f9a8e4b4",
   "metadata": {},
   "outputs": [
    {
     "data": {
      "image/png": "[encoded data removed]",
      "text/plain": [
       "<Figure size 640x480 with 1 Axes>"
      ]
     },
     "metadata": {},
     "output_type": "display_data"
    }
   ],
   "source": [
    "# Plot results\n",
    "g = sns.barplot(result,  \n",
    "                x=\"geo_level_1_id\", \n",
    "                y=\"ratio\",\n",
    "                order=result.sort_values('ratio', ascending=False).geo_level_1_id)\n",
    "\n",
    "for item in g.get_xticklabels():\n",
    "    item.set_rotation(90)"
   ]
  },
  {
   "cell_type": "markdown",
   "id": "88a293e4",
   "metadata": {},
   "source": [
    "The plots look pretty similar, also the values are similar.\n",
    "(Also matches the information given in the presentation of the other group).\n",
    "\n",
    "$\\Rightarrow$ create a mapping between the geo_level_1_ids and the names and positions of the districts. "
   ]
  },
  {
   "cell_type": "code",
   "execution_count": 118,
   "id": "42bb7d87",
   "metadata": {},
   "outputs": [
    {
     "data": {
      "text/html": [
       "<div>\n",
       "<style scoped>\n",
       "    .dataframe tbody tr th:only-of-type {\n",
       "        vertical-align: middle;\n",
       "    }\n",
       "\n",
       "    .dataframe tbody tr th {\n",
       "        vertical-align: top;\n",
       "    }\n",
       "\n",
       "    .dataframe thead th {\n",
       "        text-align: right;\n",
       "    }\n",
       "</style>\n",
       "<table border=\"1\" class=\"dataframe\">\n",
       "  <thead>\n",
       "    <tr style=\"text-align: right;\">\n",
       "      <th></th>\n",
       "      <th>dcode</th>\n",
       "      <th>district</th>\n",
       "      <th>loc</th>\n",
       "      <th>latitude</th>\n",
       "      <th>longitude</th>\n",
       "      <th>cases_absolute</th>\n",
       "      <th>cases_total</th>\n",
       "      <th>cases_relative</th>\n",
       "      <th>geo_level_1_id</th>\n",
       "    </tr>\n",
       "  </thead>\n",
       "  <tbody>\n",
       "    <tr>\n",
       "      <th>10</th>\n",
       "      <td>24</td>\n",
       "      <td>Kavrepalanchowk</td>\n",
       "      <td>POINT (660172.7511581221 3047402.9516771147)</td>\n",
       "      <td>3.047403e+06</td>\n",
       "      <td>660172.751158</td>\n",
       "      <td>90497</td>\n",
       "      <td>996588</td>\n",
       "      <td>9.080683</td>\n",
       "      <td>6</td>\n",
       "    </tr>\n",
       "    <tr>\n",
       "      <th>16</th>\n",
       "      <td>30</td>\n",
       "      <td>Dhading</td>\n",
       "      <td>POINT (594662.4464236646 3093171.805756474)</td>\n",
       "      <td>3.093172e+06</td>\n",
       "      <td>594662.446424</td>\n",
       "      <td>85255</td>\n",
       "      <td>996588</td>\n",
       "      <td>8.554689</td>\n",
       "      <td>26</td>\n",
       "    </tr>\n",
       "    <tr>\n",
       "      <th>17</th>\n",
       "      <td>31</td>\n",
       "      <td>Makwanpur</td>\n",
       "      <td>POINT (606893.011749543 3039579.495623507)</td>\n",
       "      <td>3.039579e+06</td>\n",
       "      <td>606893.011750</td>\n",
       "      <td>85188</td>\n",
       "      <td>996588</td>\n",
       "      <td>8.547966</td>\n",
       "      <td>10</td>\n",
       "    </tr>\n",
       "    <tr>\n",
       "      <th>9</th>\n",
       "      <td>23</td>\n",
       "      <td>Sindhupalchowk</td>\n",
       "      <td>POINT (671458.8329532298 3089631.706769355)</td>\n",
       "      <td>3.089632e+06</td>\n",
       "      <td>671458.832953</td>\n",
       "      <td>83589</td>\n",
       "      <td>996588</td>\n",
       "      <td>8.387518</td>\n",
       "      <td>17</td>\n",
       "    </tr>\n",
       "    <tr>\n",
       "      <th>19</th>\n",
       "      <td>36</td>\n",
       "      <td>Gorkha</td>\n",
       "      <td>POINT (577663.7704127206 3133385.98766555)</td>\n",
       "      <td>3.133386e+06</td>\n",
       "      <td>577663.770413</td>\n",
       "      <td>74389</td>\n",
       "      <td>996588</td>\n",
       "      <td>7.464368</td>\n",
       "      <td>8</td>\n",
       "    </tr>\n",
       "  </tbody>\n",
       "</table>\n",
       "</div>"
      ],
      "text/plain": [
       "    dcode         district                                           loc   \n",
       "10     24  Kavrepalanchowk  POINT (660172.7511581221 3047402.9516771147)  \\\n",
       "16     30          Dhading   POINT (594662.4464236646 3093171.805756474)   \n",
       "17     31        Makwanpur    POINT (606893.011749543 3039579.495623507)   \n",
       "9      23   Sindhupalchowk   POINT (671458.8329532298 3089631.706769355)   \n",
       "19     36           Gorkha    POINT (577663.7704127206 3133385.98766555)   \n",
       "\n",
       "        latitude      longitude  cases_absolute  cases_total  cases_relative   \n",
       "10  3.047403e+06  660172.751158           90497       996588        9.080683  \\\n",
       "16  3.093172e+06  594662.446424           85255       996588        8.554689   \n",
       "17  3.039579e+06  606893.011750           85188       996588        8.547966   \n",
       "9   3.089632e+06  671458.832953           83589       996588        8.387518   \n",
       "19  3.133386e+06  577663.770413           74389       996588        7.464368   \n",
       "\n",
       "    geo_level_1_id  \n",
       "10               6  \n",
       "16              26  \n",
       "17              10  \n",
       "9               17  \n",
       "19               8  "
      ]
     },
     "execution_count": 118,
     "metadata": {},
     "output_type": "execute_result"
    }
   ],
   "source": [
    "sorted_geo_level_1_ids = list(result.sort_values('ratio', ascending=False).geo_level_1_id)\n",
    "\n",
    "district_mapping = geocoded_districts.sort_values(\"cases_absolute\", ascending=False)\n",
    "district_mapping[\"geo_level_1_id\"] = sorted_geo_level_1_ids\n",
    "district_mapping.head()"
   ]
  },
  {
   "cell_type": "markdown",
   "id": "ae7c7b70",
   "metadata": {},
   "source": [
    "## Distance to epicenter\n",
    "\n",
    "We can download the shapefile of Nepal along with its districts here: https://codefornepal.carto.com/tables/shape_files_of_districts_in_nepal/public\n",
    "\n",
    "The information where the epicenter of the earthquake was can be found here: https://en.wikipedia.org/wiki/April_2015_Nepal_earthquake"
   ]
  },
  {
   "cell_type": "code",
   "execution_count": null,
   "id": "38705d88",
   "metadata": {},
   "outputs": [],
   "source": []
  }
 ],
 "metadata": {
  "kernelspec": {
   "display_name": "Python 3 (ipykernel)",
   "language": "python",
   "name": "python3"
  },
  "language_info": {
   "codemirror_mode": {
    "name": "ipython",
    "version": 3
   },
   "file_extension": ".py",
   "mimetype": "text/x-python",
   "name": "python",
   "nbconvert_exporter": "python",
   "pygments_lexer": "ipython3",
   "version": "3.10.0"
  }
 },
 "nbformat": 4,
 "nbformat_minor": 5
}
