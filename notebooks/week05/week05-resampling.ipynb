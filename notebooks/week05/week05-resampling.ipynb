{
 "cells": [
  {
   "cell_type": "code",
   "execution_count": 1,
   "metadata": {
    "pycharm": {
     "name": "#%%\n"
    }
   },
   "outputs": [],
   "source": [
    "import pandas as pd\n",
    "import seaborn as sns\n",
    "import time\n",
    "import numpy as np\n",
    "import matplotlib.pyplot as plt\n",
    "\n",
    "from sklearn.preprocessing import LabelEncoder\n",
    "from sklearn.metrics import matthews_corrcoef, make_scorer\n",
    "from sklearn.model_selection import cross_validate\n",
    "\n",
    "import xgboost\n",
    "\n",
    "from collections import Counter\n",
    "\n",
    "sns.set_theme(style=\"whitegrid\")\n",
    "sns.set_palette(palette=\"Paired\")\n",
    "SEED: int = 42"
   ]
  },
  {
   "cell_type": "markdown",
   "metadata": {
    "pycharm": {
     "name": "#%% md\n"
    }
   },
   "source": [
    "# Load Data\n",
    "We load the already processed data from the `data/processed` directory"
   ]
  },
  {
   "cell_type": "code",
   "execution_count": 2,
   "metadata": {
    "pycharm": {
     "name": "#%%\n"
    }
   },
   "outputs": [],
   "source": [
    "train_data = pd.read_csv(\"../../data/processed/train_data_cleaned.csv\", index_col=\"building_id\")\n",
    "y_train = pd.read_csv(\"../../data/processed/train_labels.csv\", index_col=\"building_id\", usecols=[\"building_id\", \"damage_grade\"])"
   ]
  },
  {
   "cell_type": "code",
   "execution_count": 3,
   "metadata": {},
   "outputs": [],
   "source": [
    "encoder = LabelEncoder()\n",
    "train_labels = encoder.fit_transform(y_train[\"damage_grade\"].to_numpy())"
   ]
  },
  {
   "cell_type": "code",
   "execution_count": 4,
   "metadata": {},
   "outputs": [
    {
     "name": "stdout",
     "output_type": "stream",
     "text": [
      "Original counts of labels Counter({1: 148259, 2: 87218, 0: 25124})\n"
     ]
    }
   ],
   "source": [
    "print('Original counts of labels %s' % Counter(train_labels))"
   ]
  },
  {
   "cell_type": "code",
   "execution_count": 5,
   "metadata": {},
   "outputs": [],
   "source": [
    "model = xgboost.XGBClassifier(n_estimators=100,\n",
    "                              max_depth=20,\n",
    "                              learning_rate=0.1,\n",
    "                              subsample=0.8,\n",
    "                              colsample_bytree=0.8,\n",
    "                              random_state=42,\n",
    "                              n_jobs=-1)\n",
    "\n",
    "scoring = make_scorer(matthews_corrcoef)"
   ]
  },
  {
   "cell_type": "code",
   "execution_count": 6,
   "metadata": {},
   "outputs": [
    {
     "name": "stdout",
     "output_type": "stream",
     "text": [
      "CPU times: user 160 ms, sys: 186 ms, total: 346 ms\n",
      "Wall time: 12min 28s\n"
     ]
    }
   ],
   "source": [
    "%%time\n",
    "\n",
    "cv_results = cross_validate(model, train_data, train_labels, cv=5,\n",
    "                            scoring=scoring,\n",
    "                            n_jobs=-1,\n",
    "                            return_train_score=True)"
   ]
  },
  {
   "cell_type": "code",
   "execution_count": 7,
   "metadata": {},
   "outputs": [
    {
     "name": "stdout",
     "output_type": "stream",
     "text": [
      "CV Test: 0.5125 +/- 0.0047 MCC\n"
     ]
    }
   ],
   "source": [
    "print(f\"CV Test: {round(np.mean(cv_results['test_score']), 4)} +/- {round(np.std(cv_results['test_score']), 4)} MCC\")"
   ]
  },
  {
   "cell_type": "markdown",
   "metadata": {},
   "source": [
    "# Random Undersampling"
   ]
  },
  {
   "cell_type": "code",
   "execution_count": 8,
   "metadata": {},
   "outputs": [],
   "source": [
    "model = xgboost.XGBClassifier(n_estimators=100,\n",
    "                              max_depth=20,\n",
    "                              learning_rate=0.1,\n",
    "                              subsample=0.8,\n",
    "                              colsample_bytree=0.8,\n",
    "                              random_state=42,\n",
    "                              n_jobs=-1)"
   ]
  },
  {
   "cell_type": "code",
   "execution_count": 9,
   "metadata": {},
   "outputs": [],
   "source": [
    "from imblearn.under_sampling import RandomUnderSampler"
   ]
  },
  {
   "cell_type": "code",
   "execution_count": 10,
   "metadata": {},
   "outputs": [
    {
     "name": "stdout",
     "output_type": "stream",
     "text": [
      "Resampled dataset shape Counter({0: 25124, 1: 25124, 2: 25124})\n"
     ]
    }
   ],
   "source": [
    "rus = RandomUnderSampler(random_state=42)\n",
    "X_rus, y_rus = rus.fit_resample(train_data, train_labels)\n",
    "print('Resampled dataset shape %s' % Counter(y_rus))"
   ]
  },
  {
   "cell_type": "code",
   "execution_count": 11,
   "metadata": {},
   "outputs": [
    {
     "name": "stderr",
     "output_type": "stream",
     "text": [
      "[Parallel(n_jobs=-1)]: Using backend LokyBackend with 8 concurrent workers.\n",
      "[Parallel(n_jobs=-1)]: Done   2 out of   5 | elapsed:  2.5min remaining:  3.7min\n"
     ]
    },
    {
     "name": "stdout",
     "output_type": "stream",
     "text": [
      "CPU times: user 134 ms, sys: 226 ms, total: 360 ms\n",
      "Wall time: 2min 33s\n"
     ]
    },
    {
     "name": "stderr",
     "output_type": "stream",
     "text": [
      "[Parallel(n_jobs=-1)]: Done   5 out of   5 | elapsed:  2.6min finished\n"
     ]
    }
   ],
   "source": [
    "%%time\n",
    "\n",
    "cv_results_rus = cross_validate(model, X_rus, y_rus, cv=5,\n",
    "                                scoring=scoring,  #\"accuracy\",\n",
    "                                n_jobs=-1,\n",
    "                                return_train_score=True,\n",
    "                                verbose=0)"
   ]
  },
  {
   "cell_type": "code",
   "execution_count": 12,
   "metadata": {},
   "outputs": [
    {
     "name": "stdout",
     "output_type": "stream",
     "text": [
      "CV Test: 0.5765 +/- 0.0016 MCC\n"
     ]
    }
   ],
   "source": [
    "print(f\"CV Test: {round(np.mean(cv_results_rus['test_score']), 4)} +/- {round(np.std(cv_results_rus['test_score']), 4)} MCC\")"
   ]
  },
  {
   "cell_type": "markdown",
   "metadata": {},
   "source": [
    "# Random Oversampling"
   ]
  },
  {
   "cell_type": "code",
   "execution_count": 13,
   "metadata": {},
   "outputs": [],
   "source": [
    "model = xgboost.XGBClassifier(n_estimators=100,\n",
    "                              max_depth=20,\n",
    "                              learning_rate=0.1,\n",
    "                              subsample=0.8,\n",
    "                              colsample_bytree=0.8,\n",
    "                              random_state=42,\n",
    "                              n_jobs=-1)"
   ]
  },
  {
   "cell_type": "code",
   "execution_count": 14,
   "metadata": {},
   "outputs": [],
   "source": [
    "from imblearn.over_sampling import RandomOverSampler"
   ]
  },
  {
   "cell_type": "code",
   "execution_count": 15,
   "metadata": {},
   "outputs": [
    {
     "name": "stdout",
     "output_type": "stream",
     "text": [
      "Resampled dataset shape Counter({2: 148259, 1: 148259, 0: 148259})\n"
     ]
    }
   ],
   "source": [
    "ros = RandomOverSampler(random_state=42)\n",
    "X_ros, y_ros = ros.fit_resample(train_data, train_labels)\n",
    "print('Resampled dataset shape %s' % Counter(y_ros))"
   ]
  },
  {
   "cell_type": "code",
   "execution_count": 16,
   "metadata": {},
   "outputs": [
    {
     "name": "stdout",
     "output_type": "stream",
     "text": [
      "CPU times: user 254 ms, sys: 245 ms, total: 499 ms\n",
      "Wall time: 29min 57s\n"
     ]
    }
   ],
   "source": [
    "%%time\n",
    "\n",
    "cv_results_ros = cross_validate(model, X_ros, y_ros, cv=5,\n",
    "                                scoring=scoring,\n",
    "                                n_jobs=-1,\n",
    "                                return_train_score=True, \n",
    "                                verbose=0)"
   ]
  },
  {
   "cell_type": "code",
   "execution_count": 17,
   "metadata": {},
   "outputs": [
    {
     "name": "stdout",
     "output_type": "stream",
     "text": [
      "CV Test: 0.8056 +/- 0.029 MCC\n"
     ]
    }
   ],
   "source": [
    "print(f\"CV Test: {round(np.mean(cv_results_ros['test_score']), 4)} +/- {round(np.std(cv_results_ros['test_score']), 4)} MCC\")"
   ]
  },
  {
   "cell_type": "markdown",
   "metadata": {},
   "source": [
    "# Combinations of over- and undersampling"
   ]
  },
  {
   "cell_type": "markdown",
   "metadata": {},
   "source": [
    "## SMOTEENN"
   ]
  },
  {
   "cell_type": "code",
   "execution_count": 18,
   "metadata": {},
   "outputs": [],
   "source": [
    "model = xgboost.XGBClassifier(n_estimators=100,\n",
    "                              max_depth=20,\n",
    "                              learning_rate=0.1,\n",
    "                              subsample=0.8,\n",
    "                              colsample_bytree=0.8,\n",
    "                              random_state=42,\n",
    "                              n_jobs=-1)"
   ]
  },
  {
   "cell_type": "code",
   "execution_count": 19,
   "metadata": {},
   "outputs": [],
   "source": [
    "from imblearn.combine import SMOTEENN"
   ]
  },
  {
   "cell_type": "code",
   "execution_count": 20,
   "metadata": {},
   "outputs": [
    {
     "name": "stdout",
     "output_type": "stream",
     "text": [
      "CPU times: user 1h 15min 44s, sys: 205 ms, total: 1h 15min 44s\n",
      "Wall time: 11min 11s\n"
     ]
    }
   ],
   "source": [
    "%%time\n",
    "\n",
    "sme = SMOTEENN(random_state=42)\n",
    "X_sme, y_sme = sme.fit_resample(train_data, train_labels)"
   ]
  },
  {
   "cell_type": "code",
   "execution_count": 21,
   "metadata": {},
   "outputs": [
    {
     "name": "stdout",
     "output_type": "stream",
     "text": [
      "Resampled dataset shape Counter({0: 125951, 2: 82828, 1: 50540})\n"
     ]
    }
   ],
   "source": [
    "print('Resampled dataset shape %s' % Counter(y_sme))"
   ]
  },
  {
   "cell_type": "code",
   "execution_count": 22,
   "metadata": {},
   "outputs": [
    {
     "name": "stdout",
     "output_type": "stream",
     "text": [
      "CPU times: user 220 ms, sys: 280 ms, total: 500 ms\n",
      "Wall time: 16min 57s\n"
     ]
    }
   ],
   "source": [
    "%%time\n",
    "\n",
    "cv_results_sme = cross_validate(model, X_sme, y_sme, cv=5,\n",
    "                                scoring=scoring,\n",
    "                                n_jobs=-1,\n",
    "                                return_train_score=True, \n",
    "                                verbose=0)"
   ]
  },
  {
   "cell_type": "code",
   "execution_count": 23,
   "metadata": {},
   "outputs": [
    {
     "name": "stdout",
     "output_type": "stream",
     "text": [
      "CV Test: 0.9066 +/- 0.0542 MCC\n"
     ]
    }
   ],
   "source": [
    "print(f\"CV Test: {round(np.mean(cv_results_sme['test_score']), 4)} +/- {round(np.std(cv_results_sme['test_score']), 4)} MCC\")"
   ]
  },
  {
   "cell_type": "markdown",
   "metadata": {},
   "source": [
    "## SMOTETomek"
   ]
  },
  {
   "cell_type": "code",
   "execution_count": 24,
   "metadata": {},
   "outputs": [],
   "source": [
    "model = xgboost.XGBClassifier(n_estimators=100,\n",
    "                              max_depth=20,\n",
    "                              learning_rate=0.1,\n",
    "                              subsample=0.8,\n",
    "                              colsample_bytree=0.8,\n",
    "                              random_state=42,\n",
    "                              n_jobs=-1)"
   ]
  },
  {
   "cell_type": "code",
   "execution_count": 25,
   "metadata": {},
   "outputs": [],
   "source": [
    "from imblearn.combine import SMOTETomek"
   ]
  },
  {
   "cell_type": "code",
   "execution_count": 26,
   "metadata": {},
   "outputs": [
    {
     "name": "stdout",
     "output_type": "stream",
     "text": [
      "CPU times: user 1h 15min 31s, sys: 1.1 s, total: 1h 15min 32s\n",
      "Wall time: 11min 8s\n"
     ]
    }
   ],
   "source": [
    "%%time\n",
    "\n",
    "tom = SMOTETomek(random_state=42)\n",
    "X_tom, y_tom = tom.fit_resample(train_data, train_labels)"
   ]
  },
  {
   "cell_type": "code",
   "execution_count": 27,
   "metadata": {},
   "outputs": [
    {
     "name": "stdout",
     "output_type": "stream",
     "text": [
      "Resampled dataset shape Counter({0: 125951, 2: 82828, 1: 50540})\n"
     ]
    }
   ],
   "source": [
    "print('Resampled dataset shape %s' % Counter(y_sme))"
   ]
  },
  {
   "cell_type": "code",
   "execution_count": 28,
   "metadata": {},
   "outputs": [
    {
     "name": "stdout",
     "output_type": "stream",
     "text": [
      "CPU times: user 358 ms, sys: 236 ms, total: 594 ms\n",
      "Wall time: 31min 52s\n"
     ]
    }
   ],
   "source": [
    "%%time\n",
    "\n",
    "cv_results_tom = cross_validate(model, X_tom, y_tom, cv=5,\n",
    "                                scoring=scoring,\n",
    "                                n_jobs=-1,\n",
    "                                return_train_score=True, \n",
    "                                verbose=0)"
   ]
  },
  {
   "cell_type": "code",
   "execution_count": 29,
   "metadata": {},
   "outputs": [
    {
     "name": "stdout",
     "output_type": "stream",
     "text": [
      "CV Test: 0.7485 +/- 0.1222 MCC\n"
     ]
    }
   ],
   "source": [
    "print(f\"CV Test: {round(np.mean(cv_results_tom['test_score']), 4)} +/- {round(np.std(cv_results_tom['test_score']), 4)} MCC\")"
   ]
  },
  {
   "cell_type": "markdown",
   "metadata": {},
   "source": [
    "# Same methods but with train, test split"
   ]
  },
  {
   "cell_type": "code",
   "execution_count": null,
   "metadata": {},
   "outputs": [],
   "source": [
    "from sklearn.model_selection import train_test_split\n",
    "from sklearn.metrics import matthews_corrcoef\n",
    "\n",
    "X_train, X_test, y_train, y_test = train_test_split(train_data, train_labels, test_size=0.2, random_state=42)"
   ]
  },
  {
   "cell_type": "code",
   "execution_count": null,
   "metadata": {},
   "outputs": [],
   "source": [
    "model = xgboost.XGBClassifier(n_estimators=100,\n",
    "                              max_depth=20,\n",
    "                              learning_rate=0.1,\n",
    "                              subsample=0.8,\n",
    "                              colsample_bytree=0.8,\n",
    "                              random_state=42,\n",
    "                              n_jobs=-1)\n",
    "\n",
    "model.fit(X_train, y_train)\n",
    "predictions = model.predict(X_test)\n",
    "score = matthews_corrcoef(y_test, predictions)\n",
    "\n",
    "print(f\"MCC: {round(score, 4)}\")"
   ]
  },
  {
   "cell_type": "code",
   "execution_count": null,
   "metadata": {},
   "outputs": [],
   "source": [
    "%%time\n",
    "\n",
    "# Undersampling\n",
    "rus = RandomUnderSampler(random_state=42)\n",
    "X_rus, y_rus = rus.fit_resample(X_train, y_train)\n",
    "print('Resampled dataset shape %s' % Counter(y_rus))\n",
    "\n",
    "model = xgboost.XGBClassifier(n_estimators=100,\n",
    "                              max_depth=20,\n",
    "                              learning_rate=0.1,\n",
    "                              subsample=0.8,\n",
    "                              colsample_bytree=0.8,\n",
    "                              random_state=42,\n",
    "                              n_jobs=-1)\n",
    "\n",
    "model.fit(X_rus, y_rus)\n",
    "predictions = model.predict(X_test)\n",
    "score = matthews_corrcoef(y_test, predictions)\n",
    "\n",
    "print(f\"MCC: {round(score, 4)}\")"
   ]
  },
  {
   "cell_type": "code",
   "execution_count": null,
   "metadata": {},
   "outputs": [],
   "source": [
    "%%time \n",
    "\n",
    "# Oversampling\n",
    "ros = RandomOverSampler(random_state=42)\n",
    "X_ros, y_ros = ros.fit_resample(X_train, y_train)\n",
    "print('Resampled dataset shape %s' % Counter(y_ros))\n",
    "\n",
    "model = xgboost.XGBClassifier(n_estimators=100,\n",
    "                              max_depth=20,\n",
    "                              learning_rate=0.1,\n",
    "                              subsample=0.8,\n",
    "                              colsample_bytree=0.8,\n",
    "                              random_state=42,\n",
    "                              n_jobs=-1)\n",
    "\n",
    "model.fit(X_ros, y_ros)\n",
    "predictions = model.predict(X_test)\n",
    "score = matthews_corrcoef(y_test, predictions)\n",
    "\n",
    "print(f\"MCC: {round(score, 4)}\")"
   ]
  },
  {
   "cell_type": "code",
   "execution_count": null,
   "metadata": {},
   "outputs": [],
   "source": [
    "%%time \n",
    "\n",
    "# SMOTEENN\n",
    "sme = SMOTEENN(random_state=42)\n",
    "X_sme, y_sme = sme.fit_resample(X_train, y_train)\n",
    "print('Resampled dataset shape %s' % Counter(y_sme))\n",
    "\n",
    "model = xgboost.XGBClassifier(n_estimators=100,\n",
    "                              max_depth=20,\n",
    "                              learning_rate=0.1,\n",
    "                              subsample=0.8,\n",
    "                              colsample_bytree=0.8,\n",
    "                              random_state=42,\n",
    "                              n_jobs=-1)\n",
    "\n",
    "model.fit(X_sme, y_sme)\n",
    "predictions = model.predict(X_test)\n",
    "score = matthews_corrcoef(y_test, predictions)\n",
    "\n",
    "print(f\"MCC: {round(score, 4)}\")"
   ]
  },
  {
   "cell_type": "code",
   "execution_count": null,
   "metadata": {},
   "outputs": [],
   "source": [
    "%%time\n",
    "\n",
    "# SMOTETomek\n",
    "tom = SMOTETomek(random_state=42)\n",
    "X_tom, y_tom = tom.fit_resample(X_train, y_train)\n",
    "print('Resampled dataset shape %s' % Counter(y_tom))\n",
    "\n",
    "model = xgboost.XGBClassifier(n_estimators=100,\n",
    "                              max_depth=20,\n",
    "                              learning_rate=0.1,\n",
    "                              subsample=0.8,\n",
    "                              colsample_bytree=0.8,\n",
    "                              random_state=42,\n",
    "                              n_jobs=-1)\n",
    "\n",
    "model.fit(X_tom, y_tom)\n",
    "predictions = model.predict(X_test)\n",
    "score = matthews_corrcoef(y_test, predictions)\n",
    "\n",
    "print(f\"MCC: {round(score, 4)}\")"
   ]
  },
  {
   "cell_type": "markdown",
   "metadata": {},
   "source": [
    "# Plot the results"
   ]
  },
  {
   "cell_type": "code",
   "execution_count": 6,
   "metadata": {},
   "outputs": [],
   "source": [
    "import matplotlib.pyplot as plt\n",
    "import seaborn as sns\n",
    "import pandas as pd\n",
    "\n",
    "sns.set_theme(style=\"whitegrid\")\n",
    "sns.set_palette(palette=\"Paired\")"
   ]
  },
  {
   "cell_type": "code",
   "execution_count": 21,
   "metadata": {},
   "outputs": [
    {
     "data": {
      "image/png": "[encoded data removed]",
      "text/plain": [
       "<Figure size 640x480 with 1 Axes>"
      ]
     },
     "metadata": {},
     "output_type": "display_data"
    }
   ],
   "source": [
    "# CV\n",
    "# Take the results from above and plot them\n",
    "baseline = 0.5125  # XGBoost\n",
    "\n",
    "data = {\n",
    "    \"Method\"            : [\"RUS\", \"ROS\", \"SMOTEENN\", \"SMOTETomek\"],\n",
    "    \"MCC Test Mean (CV)\": [0.5765, 0.8056, 0.9066, 0.7485],\n",
    "    \"SD\"                : [0.0016, 0.0290, 0.0542, 0.1222]\n",
    "}\n",
    "\n",
    "plot_df = pd.DataFrame(data=data)\n",
    "\n",
    "ax = sns.barplot(data=plot_df, x='Method', y='MCC Test Mean (CV)', color='dodgerblue')\n",
    "ax.errorbar(data=plot_df, x='Method', y='MCC Test Mean (CV)', yerr='SD', ls='', lw=3, color='black', label=\"Standard Deviation\")\n",
    "ax.axhline(baseline, color='r', ls='--', label='Baseline model (MCC: 0.5125)')\n",
    "ax.set_ylim([0.0, 1.2])\n",
    "plt.legend()\n",
    "plt.show()"
   ]
  },
  {
   "cell_type": "code",
   "execution_count": 22,
   "metadata": {},
   "outputs": [
    {
     "data": {
      "image/png": "[encoded data removed]",
      "text/plain": [
       "<Figure size 640x480 with 1 Axes>"
      ]
     },
     "metadata": {},
     "output_type": "display_data"
    }
   ],
   "source": [
    "# Hold out\n",
    "# Take the results from above and plot them\n",
    "baseline = 0.5125  # XGBoost\n",
    "\n",
    "data = {\n",
    "    \"Method\"            : [\"RUS\", \"ROS\", \"SMOTEENN\", \"SMOTETomek\"],\n",
    "    \"MCC Test Mean (CV)\": [0.4546, 0.5069, 0.4911, 0.5121],\n",
    "    # \"SD\"                : [0.0016, 0.0290, 0.0542, 0.1222]\n",
    "}\n",
    "\n",
    "plot_df = pd.DataFrame(data=data)\n",
    "\n",
    "ax = sns.barplot(data=plot_df, x='Method', y='MCC Test Mean (CV)', color='dodgerblue')\n",
    "#ax.errorbar(data=plot_df, x='Method', y='MCC Test Mean (CV)', yerr='SD', ls='', lw=3, color='black', label=\"Standard Deviation\")\n",
    "ax.axhline(baseline, color='r', ls='--', label='Baseline model (MCC: 0.5125)')\n",
    "ax.set_ylim([0.0, 1.2])\n",
    "plt.legend()\n",
    "plt.show()"
   ]
  },
  {
   "cell_type": "markdown",
   "metadata": {},
   "source": [
    "# Conclusion"
   ]
  },
  {
   "cell_type": "markdown",
   "metadata": {},
   "source": [
    "At a first glimpse it looks like those methods improve the results. \n",
    "But when performin a CV in this way, the test set is also sampled and does not represent the reality we want to model. \n",
    "So I chose to perform the same methods on a hold out set, which is not sampled. \n",
    "Here I can see, that the results are (even if only little) worse compared to the training on the original data set.\n",
    "\n",
    "I also believe that methods using SMOTE are not so suitable for categorical or binary data, because new data points are created using linear combination of the existing data points. \n",
    "In this case it means creating new categories respective non-existent states of binary features."
   ]
  },
  {
   "cell_type": "code",
   "execution_count": null,
   "metadata": {},
   "outputs": [],
   "source": []
  }
 ],
 "metadata": {
  "kernelspec": {
   "display_name": "Python 3 (ipykernel)",
   "language": "python",
   "name": "python3"
  },
  "language_info": {
   "codemirror_mode": {
    "name": "ipython",
    "version": 3
   },
   "file_extension": ".py",
   "mimetype": "text/x-python",
   "name": "python",
   "nbconvert_exporter": "python",
   "pygments_lexer": "ipython3",
   "version": "3.10.0"
  }
 },
 "nbformat": 4,
 "nbformat_minor": 1
}
