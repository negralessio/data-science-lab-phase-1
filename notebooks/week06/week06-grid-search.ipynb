{
 "cells": [
  {
   "cell_type": "code",
   "execution_count": 1,
   "id": "d952af01",
   "metadata": {},
   "outputs": [],
   "source": [
    " import pandas as pd\n",
    "import seaborn as sns\n",
    "import numpy as np\n",
    "import matplotlib.pyplot as plt\n",
    "\n",
    "from sklearn.model_selection import cross_validate\n",
    "from sklearn.preprocessing import LabelEncoder\n",
    "\n",
    "import xgboost\n",
    "\n",
    "sns.set_theme(style=\"whitegrid\")\n",
    "sns.set_palette(palette=\"Paired\")\n",
    "SEED: int = 42"
   ]
  },
  {
   "cell_type": "code",
   "execution_count": 2,
   "id": "50ca3e61",
   "metadata": {},
   "outputs": [],
   "source": [
    "train_data = pd.read_csv(\"../../data/processed/train_data_cleaned.csv\", index_col=\"building_id\")\n",
    "y_train = pd.read_csv(\"../../data/processed/train_labels.csv\", index_col=\"building_id\", usecols=[\"building_id\", \"damage_grade\"])"
   ]
  },
  {
   "cell_type": "code",
   "execution_count": 3,
   "id": "270f1ea8",
   "metadata": {},
   "outputs": [],
   "source": [
    "encoder = LabelEncoder()\n",
    "train_labels = encoder.fit_transform(y_train[\"damage_grade\"].to_numpy())"
   ]
  },
  {
   "cell_type": "markdown",
   "id": "c6340b02",
   "metadata": {},
   "source": [
    "# Grid Search on XGBoost"
   ]
  },
  {
   "cell_type": "code",
   "execution_count": 4,
   "id": "27845765",
   "metadata": {},
   "outputs": [],
   "source": [
    "from sklearn.model_selection import GridSearchCV"
   ]
  },
  {
   "cell_type": "code",
   "execution_count": 5,
   "id": "2c8a429d",
   "metadata": {},
   "outputs": [],
   "source": [
    "xgboost_grid = {\n",
    "    \"n_estimators\"    : [60, 70, 80, 90, 100, 110, 120, 130, 140],\n",
    "    \"max_depth\"       : [14, 16, 18, 20, 22, 24, 26, 28, 30],\n",
    "    \"learning_rate\"   : [0.001, 0.005, 0.006, 0.007, 0.008, 0.009, 0.1, 0.11, 0.12, 0.13, 0.14, 0.15, 0.2], \n",
    "    \"colsample_bytree\": [0.5, 0.6, 0.7, 0.8, 0.9, 1.0, 1.1, 1.2, 1.3]\n",
    "}"
   ]
  },
  {
   "cell_type": "code",
   "execution_count": 6,
   "id": "52547ebe",
   "metadata": {},
   "outputs": [],
   "source": [
    "model = xgboost.XGBClassifier(random_state=42,\n",
    "                              n_jobs=-1)"
   ]
  },
  {
   "cell_type": "code",
   "execution_count": 7,
   "id": "868e5347",
   "metadata": {},
   "outputs": [],
   "source": [
    "search = GridSearchCV(model, xgboost_grid)"
   ]
  },
  {
   "cell_type": "code",
   "execution_count": null,
   "id": "e946e71c",
   "metadata": {},
   "outputs": [],
   "source": [
    "%%time \n",
    "\n",
    "search.fit(train_data[:10000], train_labels[:10000], verbose=2)"
   ]
  },
  {
   "cell_type": "code",
   "execution_count": null,
   "id": "225beee1",
   "metadata": {},
   "outputs": [],
   "source": []
  }
 ],
 "metadata": {
  "kernelspec": {
   "display_name": "Python 3 (ipykernel)",
   "language": "python",
   "name": "python3"
  },
  "language_info": {
   "codemirror_mode": {
    "name": "ipython",
    "version": 3
   },
   "file_extension": ".py",
   "mimetype": "text/x-python",
   "name": "python",
   "nbconvert_exporter": "python",
   "pygments_lexer": "ipython3",
   "version": "3.10.0"
  }
 },
 "nbformat": 4,
 "nbformat_minor": 5
}
