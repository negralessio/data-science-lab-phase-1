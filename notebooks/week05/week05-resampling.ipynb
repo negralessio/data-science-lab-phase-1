{
 "cells": [
  {
   "cell_type": "code",
   "execution_count": 1,
   "metadata": {
    "pycharm": {
     "name": "#%%\n"
    }
   },
   "outputs": [],
   "source": [
    "import pandas as pd\n",
    "import seaborn as sns\n",
    "import time\n",
    "import numpy as np\n",
    "import matplotlib.pyplot as plt\n",
    "\n",
    "from sklearn.preprocessing import LabelEncoder\n",
    "from sklearn.metrics import matthews_corrcoef, make_scorer\n",
    "from sklearn.model_selection import cross_validate\n",
    "\n",
    "import xgboost\n",
    "\n",
    "from collections import Counter\n",
    "\n",
    "sns.set_theme(style=\"whitegrid\")\n",
    "sns.set_palette(palette=\"Paired\")\n",
    "SEED: int = 42"
   ]
  },
  {
   "cell_type": "markdown",
   "metadata": {
    "pycharm": {
     "name": "#%% md\n"
    }
   },
   "source": [
    "# Load Data\n",
    "We load the already processed data from the `data/processed` directory"
   ]
  },
  {
   "cell_type": "code",
   "execution_count": 2,
   "metadata": {
    "pycharm": {
     "name": "#%%\n"
    }
   },
   "outputs": [],
   "source": [
    "train_data = pd.read_csv(\"../../data/processed/train_data_cleaned.csv\", index_col=\"building_id\")\n",
    "y_train = pd.read_csv(\"../../data/processed/train_labels.csv\", index_col=\"building_id\", usecols=[\"building_id\", \"damage_grade\"])"
   ]
  },
  {
   "cell_type": "code",
   "execution_count": 3,
   "metadata": {},
   "outputs": [],
   "source": [
    "encoder = LabelEncoder()\n",
    "train_labels = encoder.fit_transform(y_train[\"damage_grade\"].to_numpy())"
   ]
  },
  {
   "cell_type": "code",
   "execution_count": 4,
   "metadata": {},
   "outputs": [
    {
     "name": "stdout",
     "output_type": "stream",
     "text": [
      "Original counts of labels Counter({1: 148259, 2: 87218, 0: 25124})\n"
     ]
    }
   ],
   "source": [
    "print('Original counts of labels %s' % Counter(train_labels))"
   ]
  },
  {
   "cell_type": "code",
   "execution_count": 5,
   "metadata": {},
   "outputs": [],
   "source": [
    "model = xgboost.XGBClassifier(n_estimators=100,\n",
    "                              max_depth=20,\n",
    "                              learning_rate=0.1,\n",
    "                              subsample=0.8,\n",
    "                              colsample_bytree=0.8,\n",
    "                              random_state=42,\n",
    "                              n_jobs=-1)\n",
    "\n",
    "scoring = make_scorer(matthews_corrcoef)"
   ]
  },
  {
   "cell_type": "code",
   "execution_count": 6,
   "metadata": {},
   "outputs": [
    {
     "name": "stdout",
     "output_type": "stream",
     "text": [
      "CPU times: user 200 ms, sys: 167 ms, total: 366 ms\n",
      "Wall time: 13min 25s\n"
     ]
    }
   ],
   "source": [
    "%%time\n",
    "\n",
    "cv_results = cross_validate(model, train_data, train_labels, cv=5,\n",
    "                            scoring=scoring,\n",
    "                            n_jobs=-1,\n",
    "                            return_train_score=True)"
   ]
  },
  {
   "cell_type": "code",
   "execution_count": 7,
   "metadata": {},
   "outputs": [
    {
     "name": "stdout",
     "output_type": "stream",
     "text": [
      "CV Test: 0.5125 +/- 0.0047 MCC\n"
     ]
    }
   ],
   "source": [
    "print(f\"CV Test: {round(np.mean(cv_results['test_score']), 4)} +/- {round(np.std(cv_results['test_score']), 4)} MCC\")"
   ]
  },
  {
   "cell_type": "markdown",
   "metadata": {},
   "source": [
    "# Random Undersampling"
   ]
  },
  {
   "cell_type": "code",
   "execution_count": 8,
   "metadata": {},
   "outputs": [],
   "source": [
    "from imblearn.under_sampling import RandomUnderSampler"
   ]
  },
  {
   "cell_type": "code",
   "execution_count": 9,
   "metadata": {},
   "outputs": [
    {
     "name": "stdout",
     "output_type": "stream",
     "text": [
      "Resampled dataset shape Counter({0: 25124, 1: 25124, 2: 25124})\n"
     ]
    }
   ],
   "source": [
    "rus = RandomUnderSampler(random_state=42)\n",
    "X_rus, y_rus = rus.fit_resample(train_data, train_labels)\n",
    "print('Resampled dataset shape %s' % Counter(y_rus))"
   ]
  },
  {
   "cell_type": "code",
   "execution_count": 10,
   "metadata": {},
   "outputs": [
    {
     "name": "stderr",
     "output_type": "stream",
     "text": [
      "[Parallel(n_jobs=-1)]: Using backend LokyBackend with 8 concurrent workers.\n",
      "[Parallel(n_jobs=-1)]: Done   2 out of   5 | elapsed:  3.2min remaining:  4.8min\n"
     ]
    },
    {
     "name": "stdout",
     "output_type": "stream",
     "text": [
      "CPU times: user 150 ms, sys: 175 ms, total: 325 ms\n",
      "Wall time: 3min 17s\n"
     ]
    },
    {
     "name": "stderr",
     "output_type": "stream",
     "text": [
      "[Parallel(n_jobs=-1)]: Done   5 out of   5 | elapsed:  3.3min finished\n"
     ]
    }
   ],
   "source": [
    "%%time\n",
    "\n",
    "cv_results_rus = cross_validate(model, X_rus, y_rus, cv=5,\n",
    "                                scoring=scoring,  #\"accuracy\",\n",
    "                                n_jobs=-1,\n",
    "                                return_train_score=True,\n",
    "                                verbose=1)"
   ]
  },
  {
   "cell_type": "code",
   "execution_count": 11,
   "metadata": {},
   "outputs": [
    {
     "name": "stdout",
     "output_type": "stream",
     "text": [
      "CV Test: 0.5765 +/- 0.0016 MCC\n"
     ]
    }
   ],
   "source": [
    "print(f\"CV Test: {round(np.mean(cv_results_rus['test_score']), 4)} +/- {round(np.std(cv_results_rus['test_score']), 4)} MCC\")"
   ]
  },
  {
   "cell_type": "markdown",
   "metadata": {},
   "source": [
    "# Random Oversampling"
   ]
  },
  {
   "cell_type": "code",
   "execution_count": 12,
   "metadata": {},
   "outputs": [],
   "source": [
    "from imblearn.over_sampling import RandomOverSampler"
   ]
  },
  {
   "cell_type": "code",
   "execution_count": 13,
   "metadata": {},
   "outputs": [
    {
     "name": "stdout",
     "output_type": "stream",
     "text": [
      "Resampled dataset shape Counter({2: 148259, 1: 148259, 0: 148259})\n"
     ]
    }
   ],
   "source": [
    "ros = RandomOverSampler(random_state=42)\n",
    "X_ros, y_ros = ros.fit_resample(train_data, train_labels)\n",
    "print('Resampled dataset shape %s' % Counter(y_ros))"
   ]
  },
  {
   "cell_type": "code",
   "execution_count": 14,
   "metadata": {},
   "outputs": [
    {
     "name": "stdout",
     "output_type": "stream",
     "text": [
      "CPU times: user 213 ms, sys: 97.8 ms, total: 311 ms\n",
      "Wall time: 26min 12s\n"
     ]
    }
   ],
   "source": [
    "%%time\n",
    "\n",
    "cv_results_ros = cross_validate(model, X_ros, y_ros, cv=5,\n",
    "                                scoring=scoring,\n",
    "                                n_jobs=-1,\n",
    "                                return_train_score=True, \n",
    "                                verbose=0)"
   ]
  },
  {
   "cell_type": "code",
   "execution_count": 15,
   "metadata": {},
   "outputs": [
    {
     "name": "stdout",
     "output_type": "stream",
     "text": [
      "CV Test: 0.8056 +/- 0.029 MCC\n"
     ]
    }
   ],
   "source": [
    "print(f\"CV Test: {round(np.mean(cv_results_ros['test_score']), 4)} +/- {round(np.std(cv_results_ros['test_score']), 4)} MCC\")"
   ]
  },
  {
   "cell_type": "markdown",
   "metadata": {},
   "source": [
    "# Combinations of over- and undersampling"
   ]
  },
  {
   "cell_type": "markdown",
   "metadata": {},
   "source": [
    "## SMOTEENN"
   ]
  },
  {
   "cell_type": "code",
   "execution_count": 16,
   "metadata": {},
   "outputs": [],
   "source": [
    "from imblearn.combine import SMOTEENN"
   ]
  },
  {
   "cell_type": "code",
   "execution_count": 17,
   "metadata": {},
   "outputs": [],
   "source": [
    "%%time\n",
    "\n",
    "sme = SMOTEENN(random_state=42)\n",
    "X_sme, y_sme = sme.fit_resample(train_data, train_labels)"
   ]
  },
  {
   "cell_type": "code",
   "execution_count": 18,
   "metadata": {},
   "outputs": [
    {
     "name": "stdout",
     "output_type": "stream",
     "text": [
      "Resampled dataset shape Counter({0: 125951, 2: 82828, 1: 50540})\n"
     ]
    }
   ],
   "source": [
    "print('Resampled dataset shape %s' % Counter(y_sme))"
   ]
  },
  {
   "cell_type": "code",
   "execution_count": 19,
   "metadata": {},
   "outputs": [
    {
     "name": "stdout",
     "output_type": "stream",
     "text": [
      "CPU times: user 175 ms, sys: 156 ms, total: 331 ms\n",
      "Wall time: 14min 26s\n"
     ]
    }
   ],
   "source": [
    "%%time\n",
    "\n",
    "cv_results_sme = cross_validate(model, X_sme, y_sme, cv=5,\n",
    "                                scoring=scoring,\n",
    "                                n_jobs=-1,\n",
    "                                return_train_score=True, \n",
    "                                verbose=0)"
   ]
  },
  {
   "cell_type": "code",
   "execution_count": 20,
   "metadata": {},
   "outputs": [
    {
     "name": "stdout",
     "output_type": "stream",
     "text": [
      "CV Test: 0.9066 +/- 0.0542 MCC\n"
     ]
    }
   ],
   "source": [
    "print(f\"CV Test: {round(np.mean(cv_results_sme['test_score']), 4)} +/- {round(np.std(cv_results_sme['test_score']), 4)} MCC\")"
   ]
  },
  {
   "cell_type": "markdown",
   "metadata": {},
   "source": [
    "## SMOTETomek"
   ]
  },
  {
   "cell_type": "code",
   "execution_count": 21,
   "metadata": {},
   "outputs": [],
   "source": [
    "from imblearn.combine import SMOTETomek"
   ]
  },
  {
   "cell_type": "code",
   "execution_count": 22,
   "metadata": {},
   "outputs": [
    {
     "name": "stdout",
     "output_type": "stream",
     "text": [
      "CPU times: user 54min 3s, sys: 748 ms, total: 54min 4s\n",
      "Wall time: 7min 34s\n"
     ]
    }
   ],
   "source": [
    "%%time\n",
    "\n",
    "tom = SMOTETomek(random_state=42)\n",
    "X_tom, y_tom = tom.fit_resample(train_data, train_labels)"
   ]
  },
  {
   "cell_type": "code",
   "execution_count": 23,
   "metadata": {},
   "outputs": [
    {
     "name": "stdout",
     "output_type": "stream",
     "text": [
      "Resampled dataset shape Counter({0: 125951, 2: 82828, 1: 50540})\n"
     ]
    }
   ],
   "source": [
    "print('Resampled dataset shape %s' % Counter(y_sme))"
   ]
  },
  {
   "cell_type": "code",
   "execution_count": 24,
   "metadata": {},
   "outputs": [
    {
     "name": "stdout",
     "output_type": "stream",
     "text": [
      "CPU times: user 260 ms, sys: 236 ms, total: 496 ms\n",
      "Wall time: 26min 28s\n"
     ]
    }
   ],
   "source": [
    "%%time\n",
    "\n",
    "cv_results_tom = cross_validate(model, X_tom, y_tom, cv=5,\n",
    "                                scoring=scoring,\n",
    "                                n_jobs=-1,\n",
    "                                return_train_score=True, \n",
    "                                verbose=0)"
   ]
  },
  {
   "cell_type": "code",
   "execution_count": 25,
   "metadata": {},
   "outputs": [
    {
     "name": "stdout",
     "output_type": "stream",
     "text": [
      "CV Test: 0.7485 +/- 0.1222 MCC\n"
     ]
    }
   ],
   "source": [
    "print(f\"CV Test: {round(np.mean(cv_results_tom['test_score']), 4)} +/- {round(np.std(cv_results_tom['test_score']), 4)} MCC\")"
   ]
  },
  {
   "cell_type": "markdown",
   "metadata": {},
   "source": [
    "# Same methods but with train, test split"
   ]
  },
  {
   "cell_type": "code",
   "execution_count": 27,
   "metadata": {},
   "outputs": [],
   "source": [
    "from sklearn.model_selection import train_test_split\n",
    "from sklearn.metrics import matthews_corrcoef\n",
    "\n",
    "X_train, X_test, y_train, y_test = train_test_split(train_data, train_labels, test_size=0.2, random_state=42)"
   ]
  },
  {
   "cell_type": "code",
   "execution_count": null,
   "metadata": {},
   "outputs": [],
   "source": [
    "model = xgboost.XGBClassifier(n_estimators=100,\n",
    "                              max_depth=20,\n",
    "                              learning_rate=0.1,\n",
    "                              subsample=0.8,\n",
    "                              colsample_bytree=0.8,\n",
    "                              random_state=42,\n",
    "                              n_jobs=-1)\n",
    "\n",
    "model.fit(X_train, y_train)\n",
    "predictions = model.predict(X_test)\n",
    "score = matthews_corrcoef(y_test, predictions)\n",
    "\n",
    "print(f\"MCC: {round(score, 4)}\")"
   ]
  },
  {
   "cell_type": "code",
   "execution_count": 28,
   "metadata": {},
   "outputs": [
    {
     "name": "stdout",
     "output_type": "stream",
     "text": [
      "Resampled dataset shape Counter({0: 19954, 1: 19954, 2: 19954})\n",
      "MCC: 0.4546\n",
      "CPU times: user 4min 59s, sys: 6.75 s, total: 5min 6s\n",
      "Wall time: 44.8 s\n"
     ]
    }
   ],
   "source": [
    "%%time\n",
    "\n",
    "# Undersampling\n",
    "rus = RandomUnderSampler(random_state=42)\n",
    "X_rus, y_rus = rus.fit_resample(X_train, y_train)\n",
    "print('Resampled dataset shape %s' % Counter(y_rus))\n",
    "\n",
    "model = xgboost.XGBClassifier(n_estimators=100,\n",
    "                              max_depth=20,\n",
    "                              learning_rate=0.1,\n",
    "                              subsample=0.8,\n",
    "                              colsample_bytree=0.8,\n",
    "                              random_state=42,\n",
    "                              n_jobs=-1)\n",
    "\n",
    "model.fit(X_rus, y_rus)\n",
    "predictions = model.predict(X_test)\n",
    "score = matthews_corrcoef(y_test, predictions)\n",
    "\n",
    "print(f\"MCC: {round(score, 4)}\")"
   ]
  },
  {
   "cell_type": "code",
   "execution_count": 29,
   "metadata": {},
   "outputs": [
    {
     "name": "stdout",
     "output_type": "stream",
     "text": [
      "Resampled dataset shape Counter({1: 118772, 2: 118772, 0: 118772})\n",
      "MCC: 0.5069\n",
      "CPU times: user 26min 16s, sys: 19.9 s, total: 26min 36s\n",
      "Wall time: 4min 30s\n"
     ]
    }
   ],
   "source": [
    "%%time \n",
    "\n",
    "# Oversampling\n",
    "ros = RandomOverSampler(random_state=42)\n",
    "X_ros, y_ros = ros.fit_resample(X_train, y_train)\n",
    "print('Resampled dataset shape %s' % Counter(y_ros))\n",
    "\n",
    "model = xgboost.XGBClassifier(n_estimators=100,\n",
    "                              max_depth=20,\n",
    "                              learning_rate=0.1,\n",
    "                              subsample=0.8,\n",
    "                              colsample_bytree=0.8,\n",
    "                              random_state=42,\n",
    "                              n_jobs=-1)\n",
    "\n",
    "model.fit(X_ros, y_ros)\n",
    "predictions = model.predict(X_test)\n",
    "score = matthews_corrcoef(y_test, predictions)\n",
    "\n",
    "print(f\"MCC: {round(score, 4)}\")"
   ]
  },
  {
   "cell_type": "code",
   "execution_count": 30,
   "metadata": {},
   "outputs": [
    {
     "name": "stdout",
     "output_type": "stream",
     "text": [
      "Resampled dataset shape Counter({0: 101391, 2: 65787, 1: 39414})\n",
      "MCC: 0.4911\n",
      "CPU times: user 54min 18s, sys: 12.3 s, total: 54min 30s\n",
      "Wall time: 8min 31s\n"
     ]
    }
   ],
   "source": [
    "%%time \n",
    "\n",
    "# SMOTEENN\n",
    "sme = SMOTEENN(random_state=42)\n",
    "X_sme, y_sme = sme.fit_resample(X_train, y_train)\n",
    "print('Resampled dataset shape %s' % Counter(y_sme))\n",
    "\n",
    "model = xgboost.XGBClassifier(n_estimators=100,\n",
    "                              max_depth=20,\n",
    "                              learning_rate=0.1,\n",
    "                              subsample=0.8,\n",
    "                              colsample_bytree=0.8,\n",
    "                              random_state=42,\n",
    "                              n_jobs=-1)\n",
    "\n",
    "model.fit(X_sme, y_sme)\n",
    "predictions = model.predict(X_test)\n",
    "score = matthews_corrcoef(y_test, predictions)\n",
    "\n",
    "print(f\"MCC: {round(score, 4)}\")"
   ]
  },
  {
   "cell_type": "code",
   "execution_count": 31,
   "metadata": {},
   "outputs": [
    {
     "name": "stdout",
     "output_type": "stream",
     "text": [
      "Resampled dataset shape Counter({0: 117355, 2: 111448, 1: 110475})\n",
      "MCC: 0.5121\n",
      "CPU times: user 1h 6min 16s, sys: 20.4 s, total: 1h 6min 36s\n",
      "Wall time: 10min 30s\n"
     ]
    }
   ],
   "source": [
    "%%time\n",
    "\n",
    "# SMOTETomek\n",
    "tom = SMOTETomek(random_state=42)\n",
    "X_tom, y_tom = tom.fit_resample(X_train, y_train)\n",
    "print('Resampled dataset shape %s' % Counter(y_tom))\n",
    "\n",
    "model = xgboost.XGBClassifier(n_estimators=100,\n",
    "                              max_depth=20,\n",
    "                              learning_rate=0.1,\n",
    "                              subsample=0.8,\n",
    "                              colsample_bytree=0.8,\n",
    "                              random_state=42,\n",
    "                              n_jobs=-1)\n",
    "\n",
    "model.fit(X_tom, y_tom)\n",
    "predictions = model.predict(X_test)\n",
    "score = matthews_corrcoef(y_test, predictions)\n",
    "\n",
    "print(f\"MCC: {round(score, 4)}\")"
   ]
  },
  {
   "cell_type": "markdown",
   "metadata": {},
   "source": [
    "# Conclusion"
   ]
  },
  {
   "cell_type": "markdown",
   "metadata": {},
   "source": [
    "Positive results: \n",
    "- Random undersampling increased the MCC of about 0.06"
   ]
  },
  {
   "cell_type": "code",
   "execution_count": null,
   "metadata": {},
   "outputs": [],
   "source": []
  }
 ],
 "metadata": {
  "kernelspec": {
   "display_name": "Python 3 (ipykernel)",
   "language": "python",
   "name": "python3"
  },
  "language_info": {
   "codemirror_mode": {
    "name": "ipython",
    "version": 3
   },
   "file_extension": ".py",
   "mimetype": "text/x-python",
   "name": "python",
   "nbconvert_exporter": "python",
   "pygments_lexer": "ipython3",
   "version": "3.10.0"
  }
 },
 "nbformat": 4,
 "nbformat_minor": 1
}
